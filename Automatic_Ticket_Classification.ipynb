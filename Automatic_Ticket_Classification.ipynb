{
 "cells": [
  {
   "cell_type": "markdown",
   "metadata": {
    "id": "mcgXVNyaLUFS"
   },
   "source": [
    "## Pipelines that needs to be performed:\n",
    "\n",
    "1.  Data loading\n",
    "\n",
    "2. Text preprocessing\n",
    "\n",
    "3. Exploratory data analysis (EDA)\n",
    "\n",
    "4. Feature extraction\n",
    "\n",
    "5. Topic modelling \n",
    "\n",
    "6. Model building using supervised learning\n",
    "\n",
    "7. Model training and evaluation\n",
    "\n",
    "8. Model inference"
   ]
  },
  {
   "cell_type": "markdown",
   "metadata": {
    "id": "JuLFIymAL58u"
   },
   "source": [
    "## Importing the necessary libraries"
   ]
  },
  {
   "cell_type": "code",
   "execution_count": 1,
   "metadata": {},
   "outputs": [],
   "source": [
    "#!pip install plotly"
   ]
  },
  {
   "cell_type": "code",
   "execution_count": 63,
   "metadata": {
    "id": "O-Q9pqrcJrFr"
   },
   "outputs": [],
   "source": [
    "import json \n",
    "import numpy as np\n",
    "import pandas as pd\n",
    "import re, nltk, spacy, string\n",
    "import en_core_web_sm\n",
    "nlp = en_core_web_sm.load()\n",
    "import seaborn as sns\n",
    "import matplotlib.pyplot as plt\n",
    "%matplotlib inline\n",
    "\n",
    "from plotly.offline import plot\n",
    "import plotly.graph_objects as go\n",
    "import plotly.express as px\n",
    "\n",
    "from sklearn.feature_extraction.text import CountVectorizer, TfidfVectorizer, TfidfTransformer\n",
    "from pprint import pprint\n",
    "from tqdm import tqdm"
   ]
  },
  {
   "cell_type": "markdown",
   "metadata": {
    "id": "KtRLCsNVJrFt"
   },
   "source": [
    "## Loading the data\n",
    "\n",
    "The data is in JSON format and we need to convert it to a dataframe."
   ]
  },
  {
   "cell_type": "code",
   "execution_count": 3,
   "metadata": {
    "id": "puVzIf_iJrFt"
   },
   "outputs": [],
   "source": [
    "# Opening JSON file \n",
    "f = open('complaints.json', 'r') \n",
    "  \n",
    "# returns JSON object as  \n",
    "# a dictionary \n",
    "data = json.load(f)\n",
    "df=pd.json_normalize(data)"
   ]
  },
  {
   "cell_type": "markdown",
   "metadata": {
    "id": "_xYpH-sAJrFu"
   },
   "source": [
    "## Data preparation"
   ]
  },
  {
   "cell_type": "code",
   "execution_count": 4,
   "metadata": {
    "id": "Lf8ufHH5JrFu"
   },
   "outputs": [
    {
     "data": {
      "text/html": [
       "<div>\n",
       "<style scoped>\n",
       "    .dataframe tbody tr th:only-of-type {\n",
       "        vertical-align: middle;\n",
       "    }\n",
       "\n",
       "    .dataframe tbody tr th {\n",
       "        vertical-align: top;\n",
       "    }\n",
       "\n",
       "    .dataframe thead th {\n",
       "        text-align: right;\n",
       "    }\n",
       "</style>\n",
       "<table border=\"1\" class=\"dataframe\">\n",
       "  <thead>\n",
       "    <tr style=\"text-align: right;\">\n",
       "      <th></th>\n",
       "      <th>_index</th>\n",
       "      <th>_type</th>\n",
       "      <th>_id</th>\n",
       "      <th>_score</th>\n",
       "      <th>_source.tags</th>\n",
       "      <th>_source.zip_code</th>\n",
       "      <th>_source.complaint_id</th>\n",
       "      <th>_source.issue</th>\n",
       "      <th>_source.date_received</th>\n",
       "      <th>_source.state</th>\n",
       "      <th>...</th>\n",
       "      <th>_source.company_response</th>\n",
       "      <th>_source.company</th>\n",
       "      <th>_source.submitted_via</th>\n",
       "      <th>_source.date_sent_to_company</th>\n",
       "      <th>_source.company_public_response</th>\n",
       "      <th>_source.sub_product</th>\n",
       "      <th>_source.timely</th>\n",
       "      <th>_source.complaint_what_happened</th>\n",
       "      <th>_source.sub_issue</th>\n",
       "      <th>_source.consumer_consent_provided</th>\n",
       "    </tr>\n",
       "  </thead>\n",
       "  <tbody>\n",
       "    <tr>\n",
       "      <th>0</th>\n",
       "      <td>complaint-public-v2</td>\n",
       "      <td>complaint</td>\n",
       "      <td>3211475</td>\n",
       "      <td>0.0</td>\n",
       "      <td>None</td>\n",
       "      <td>90301</td>\n",
       "      <td>3211475</td>\n",
       "      <td>Attempts to collect debt not owed</td>\n",
       "      <td>2019-04-13T12:00:00-05:00</td>\n",
       "      <td>CA</td>\n",
       "      <td>...</td>\n",
       "      <td>Closed with explanation</td>\n",
       "      <td>JPMORGAN CHASE &amp; CO.</td>\n",
       "      <td>Web</td>\n",
       "      <td>2019-04-13T12:00:00-05:00</td>\n",
       "      <td>None</td>\n",
       "      <td>Credit card debt</td>\n",
       "      <td>Yes</td>\n",
       "      <td></td>\n",
       "      <td>Debt is not yours</td>\n",
       "      <td>Consent not provided</td>\n",
       "    </tr>\n",
       "    <tr>\n",
       "      <th>1</th>\n",
       "      <td>complaint-public-v2</td>\n",
       "      <td>complaint</td>\n",
       "      <td>3229299</td>\n",
       "      <td>0.0</td>\n",
       "      <td>Servicemember</td>\n",
       "      <td>319XX</td>\n",
       "      <td>3229299</td>\n",
       "      <td>Written notification about debt</td>\n",
       "      <td>2019-05-01T12:00:00-05:00</td>\n",
       "      <td>GA</td>\n",
       "      <td>...</td>\n",
       "      <td>Closed with explanation</td>\n",
       "      <td>JPMORGAN CHASE &amp; CO.</td>\n",
       "      <td>Web</td>\n",
       "      <td>2019-05-01T12:00:00-05:00</td>\n",
       "      <td>None</td>\n",
       "      <td>Credit card debt</td>\n",
       "      <td>Yes</td>\n",
       "      <td>Good morning my name is XXXX XXXX and I apprec...</td>\n",
       "      <td>Didn't receive enough information to verify debt</td>\n",
       "      <td>Consent provided</td>\n",
       "    </tr>\n",
       "    <tr>\n",
       "      <th>2</th>\n",
       "      <td>complaint-public-v2</td>\n",
       "      <td>complaint</td>\n",
       "      <td>3199379</td>\n",
       "      <td>0.0</td>\n",
       "      <td>None</td>\n",
       "      <td>77069</td>\n",
       "      <td>3199379</td>\n",
       "      <td>Other features, terms, or problems</td>\n",
       "      <td>2019-04-02T12:00:00-05:00</td>\n",
       "      <td>TX</td>\n",
       "      <td>...</td>\n",
       "      <td>Closed with explanation</td>\n",
       "      <td>JPMORGAN CHASE &amp; CO.</td>\n",
       "      <td>Web</td>\n",
       "      <td>2019-04-02T12:00:00-05:00</td>\n",
       "      <td>None</td>\n",
       "      <td>General-purpose credit card or charge card</td>\n",
       "      <td>Yes</td>\n",
       "      <td>I upgraded my XXXX XXXX card in XX/XX/2018 and...</td>\n",
       "      <td>Problem with rewards from credit card</td>\n",
       "      <td>Consent provided</td>\n",
       "    </tr>\n",
       "    <tr>\n",
       "      <th>3</th>\n",
       "      <td>complaint-public-v2</td>\n",
       "      <td>complaint</td>\n",
       "      <td>2673060</td>\n",
       "      <td>0.0</td>\n",
       "      <td>None</td>\n",
       "      <td>48066</td>\n",
       "      <td>2673060</td>\n",
       "      <td>Trouble during payment process</td>\n",
       "      <td>2017-09-13T12:00:00-05:00</td>\n",
       "      <td>MI</td>\n",
       "      <td>...</td>\n",
       "      <td>Closed with explanation</td>\n",
       "      <td>JPMORGAN CHASE &amp; CO.</td>\n",
       "      <td>Web</td>\n",
       "      <td>2017-09-14T12:00:00-05:00</td>\n",
       "      <td>None</td>\n",
       "      <td>Conventional home mortgage</td>\n",
       "      <td>Yes</td>\n",
       "      <td></td>\n",
       "      <td>None</td>\n",
       "      <td>Consent not provided</td>\n",
       "    </tr>\n",
       "    <tr>\n",
       "      <th>4</th>\n",
       "      <td>complaint-public-v2</td>\n",
       "      <td>complaint</td>\n",
       "      <td>3203545</td>\n",
       "      <td>0.0</td>\n",
       "      <td>None</td>\n",
       "      <td>10473</td>\n",
       "      <td>3203545</td>\n",
       "      <td>Fees or interest</td>\n",
       "      <td>2019-04-05T12:00:00-05:00</td>\n",
       "      <td>NY</td>\n",
       "      <td>...</td>\n",
       "      <td>Closed with explanation</td>\n",
       "      <td>JPMORGAN CHASE &amp; CO.</td>\n",
       "      <td>Referral</td>\n",
       "      <td>2019-04-05T12:00:00-05:00</td>\n",
       "      <td>None</td>\n",
       "      <td>General-purpose credit card or charge card</td>\n",
       "      <td>Yes</td>\n",
       "      <td></td>\n",
       "      <td>Charged too much interest</td>\n",
       "      <td>N/A</td>\n",
       "    </tr>\n",
       "  </tbody>\n",
       "</table>\n",
       "<p>5 rows × 22 columns</p>\n",
       "</div>"
      ],
      "text/plain": [
       "                _index      _type      _id  _score   _source.tags  \\\n",
       "0  complaint-public-v2  complaint  3211475     0.0           None   \n",
       "1  complaint-public-v2  complaint  3229299     0.0  Servicemember   \n",
       "2  complaint-public-v2  complaint  3199379     0.0           None   \n",
       "3  complaint-public-v2  complaint  2673060     0.0           None   \n",
       "4  complaint-public-v2  complaint  3203545     0.0           None   \n",
       "\n",
       "  _source.zip_code _source.complaint_id                       _source.issue  \\\n",
       "0            90301              3211475   Attempts to collect debt not owed   \n",
       "1            319XX              3229299     Written notification about debt   \n",
       "2            77069              3199379  Other features, terms, or problems   \n",
       "3            48066              2673060      Trouble during payment process   \n",
       "4            10473              3203545                    Fees or interest   \n",
       "\n",
       "       _source.date_received _source.state  ... _source.company_response  \\\n",
       "0  2019-04-13T12:00:00-05:00            CA  ...  Closed with explanation   \n",
       "1  2019-05-01T12:00:00-05:00            GA  ...  Closed with explanation   \n",
       "2  2019-04-02T12:00:00-05:00            TX  ...  Closed with explanation   \n",
       "3  2017-09-13T12:00:00-05:00            MI  ...  Closed with explanation   \n",
       "4  2019-04-05T12:00:00-05:00            NY  ...  Closed with explanation   \n",
       "\n",
       "        _source.company _source.submitted_via _source.date_sent_to_company  \\\n",
       "0  JPMORGAN CHASE & CO.                   Web    2019-04-13T12:00:00-05:00   \n",
       "1  JPMORGAN CHASE & CO.                   Web    2019-05-01T12:00:00-05:00   \n",
       "2  JPMORGAN CHASE & CO.                   Web    2019-04-02T12:00:00-05:00   \n",
       "3  JPMORGAN CHASE & CO.                   Web    2017-09-14T12:00:00-05:00   \n",
       "4  JPMORGAN CHASE & CO.              Referral    2019-04-05T12:00:00-05:00   \n",
       "\n",
       "  _source.company_public_response                         _source.sub_product  \\\n",
       "0                            None                            Credit card debt   \n",
       "1                            None                            Credit card debt   \n",
       "2                            None  General-purpose credit card or charge card   \n",
       "3                            None                  Conventional home mortgage   \n",
       "4                            None  General-purpose credit card or charge card   \n",
       "\n",
       "  _source.timely                    _source.complaint_what_happened  \\\n",
       "0            Yes                                                      \n",
       "1            Yes  Good morning my name is XXXX XXXX and I apprec...   \n",
       "2            Yes  I upgraded my XXXX XXXX card in XX/XX/2018 and...   \n",
       "3            Yes                                                      \n",
       "4            Yes                                                      \n",
       "\n",
       "                                  _source.sub_issue  \\\n",
       "0                                 Debt is not yours   \n",
       "1  Didn't receive enough information to verify debt   \n",
       "2             Problem with rewards from credit card   \n",
       "3                                              None   \n",
       "4                         Charged too much interest   \n",
       "\n",
       "  _source.consumer_consent_provided  \n",
       "0              Consent not provided  \n",
       "1                  Consent provided  \n",
       "2                  Consent provided  \n",
       "3              Consent not provided  \n",
       "4                               N/A  \n",
       "\n",
       "[5 rows x 22 columns]"
      ]
     },
     "execution_count": 4,
     "metadata": {},
     "output_type": "execute_result"
    }
   ],
   "source": [
    "# Inspect the dataframe to understand the given data.\n",
    "df.head()"
   ]
  },
  {
   "cell_type": "code",
   "execution_count": 5,
   "metadata": {},
   "outputs": [
    {
     "data": {
      "text/plain": [
       "(78313, 22)"
      ]
     },
     "execution_count": 5,
     "metadata": {},
     "output_type": "execute_result"
    }
   ],
   "source": [
    "df.shape"
   ]
  },
  {
   "cell_type": "code",
   "execution_count": 6,
   "metadata": {
    "id": "Dwcty-wmJrFw"
   },
   "outputs": [
    {
     "data": {
      "text/plain": [
       "Index(['_index', '_type', '_id', '_score', '_source.tags', '_source.zip_code',\n",
       "       '_source.complaint_id', '_source.issue', '_source.date_received',\n",
       "       '_source.state', '_source.consumer_disputed', '_source.product',\n",
       "       '_source.company_response', '_source.company', '_source.submitted_via',\n",
       "       '_source.date_sent_to_company', '_source.company_public_response',\n",
       "       '_source.sub_product', '_source.timely',\n",
       "       '_source.complaint_what_happened', '_source.sub_issue',\n",
       "       '_source.consumer_consent_provided'],\n",
       "      dtype='object')"
      ]
     },
     "execution_count": 6,
     "metadata": {},
     "output_type": "execute_result"
    }
   ],
   "source": [
    "#print the column names\n",
    "df.columns"
   ]
  },
  {
   "cell_type": "code",
   "execution_count": 7,
   "metadata": {
    "id": "FYCtKXD1JrFw"
   },
   "outputs": [],
   "source": [
    "#Assign new column names\n",
    "cols = [re.sub('^_','',col) for col in df.columns]\n",
    "cols = [re.sub('source.','',col) for col in cols]\n",
    "df.columns = cols"
   ]
  },
  {
   "cell_type": "code",
   "execution_count": 8,
   "metadata": {},
   "outputs": [
    {
     "data": {
      "text/plain": [
       "Index(['index', 'type', 'id', 'score', 'tags', 'zip_code', 'complaint_id',\n",
       "       'issue', 'date_received', 'state', 'consumer_disputed', 'product',\n",
       "       'company_response', 'company', 'submitted_via', 'date_sent_to_company',\n",
       "       'company_public_response', 'sub_product', 'timely',\n",
       "       'complaint_what_happened', 'sub_issue', 'consumer_consent_provided'],\n",
       "      dtype='object')"
      ]
     },
     "execution_count": 8,
     "metadata": {},
     "output_type": "execute_result"
    }
   ],
   "source": [
    "df.columns"
   ]
  },
  {
   "cell_type": "code",
   "execution_count": 9,
   "metadata": {},
   "outputs": [
    {
     "data": {
      "text/plain": [
       "index                            0\n",
       "type                             0\n",
       "id                               0\n",
       "score                            0\n",
       "tags                         67413\n",
       "zip_code                      6757\n",
       "complaint_id                     0\n",
       "issue                            0\n",
       "date_received                    0\n",
       "state                         1991\n",
       "consumer_disputed                0\n",
       "product                          0\n",
       "company_response                 0\n",
       "company                          0\n",
       "submitted_via                    0\n",
       "date_sent_to_company             0\n",
       "company_public_response      78309\n",
       "sub_product                  10571\n",
       "timely                           0\n",
       "complaint_what_happened          0\n",
       "sub_issue                    46297\n",
       "consumer_consent_provided     1008\n",
       "dtype: int64"
      ]
     },
     "execution_count": 9,
     "metadata": {},
     "output_type": "execute_result"
    }
   ],
   "source": [
    "df.isnull().sum()"
   ]
  },
  {
   "cell_type": "code",
   "execution_count": 10,
   "metadata": {
    "id": "grQUPFL5JrFx"
   },
   "outputs": [],
   "source": [
    "#Assign nan in place of blanks in the complaints column\n",
    "df.complaint_what_happened = df.complaint_what_happened.apply(lambda x: np.nan if x == '' else x)"
   ]
  },
  {
   "cell_type": "code",
   "execution_count": 11,
   "metadata": {},
   "outputs": [
    {
     "data": {
      "text/plain": [
       "index                            0\n",
       "type                             0\n",
       "id                               0\n",
       "score                            0\n",
       "tags                         67413\n",
       "zip_code                      6757\n",
       "complaint_id                     0\n",
       "issue                            0\n",
       "date_received                    0\n",
       "state                         1991\n",
       "consumer_disputed                0\n",
       "product                          0\n",
       "company_response                 0\n",
       "company                          0\n",
       "submitted_via                    0\n",
       "date_sent_to_company             0\n",
       "company_public_response      78309\n",
       "sub_product                  10571\n",
       "timely                           0\n",
       "complaint_what_happened      57241\n",
       "sub_issue                    46297\n",
       "consumer_consent_provided     1008\n",
       "dtype: int64"
      ]
     },
     "execution_count": 11,
     "metadata": {},
     "output_type": "execute_result"
    }
   ],
   "source": [
    "df.isnull().sum()"
   ]
  },
  {
   "cell_type": "code",
   "execution_count": 12,
   "metadata": {
    "id": "Jfxd8VSmJrFy"
   },
   "outputs": [],
   "source": [
    "#Remove all rows where complaints column is nan\n",
    "df = df[~(df.complaint_what_happened.isnull())]"
   ]
  },
  {
   "cell_type": "code",
   "execution_count": 13,
   "metadata": {},
   "outputs": [
    {
     "data": {
      "text/plain": [
       "1        Good morning my name is XXXX XXXX and I apprec...\n",
       "2        I upgraded my XXXX XXXX card in XX/XX/2018 and...\n",
       "10       Chase Card was reported on XX/XX/2019. However...\n",
       "11       On XX/XX/2018, while trying to book a XXXX  XX...\n",
       "14       my grand son give me check for {$1600.00} i de...\n",
       "                               ...                        \n",
       "78303    After being a Chase Card customer for well ove...\n",
       "78309    On Wednesday, XX/XX/XXXX I called Chas, my XXX...\n",
       "78310    I am not familiar with XXXX pay and did not un...\n",
       "78311    I have had flawless credit for 30 yrs. I've ha...\n",
       "78312    Roughly 10+ years ago I closed out my accounts...\n",
       "Name: complaint_what_happened, Length: 21072, dtype: object"
      ]
     },
     "execution_count": 13,
     "metadata": {},
     "output_type": "execute_result"
    }
   ],
   "source": [
    "df.complaint_what_happened"
   ]
  },
  {
   "cell_type": "markdown",
   "metadata": {
    "id": "L944HZpsJrFy"
   },
   "source": [
    "## Prepare the text for topic modeling\n"
   ]
  },
  {
   "cell_type": "code",
   "execution_count": 14,
   "metadata": {},
   "outputs": [],
   "source": [
    "#Remove words containing numbers\n",
    "def clean_word(x):\n",
    "    x_list = x.split(' ')\n",
    "    for i,word in enumerate(x_list):\n",
    "        if re.match('\\w*\\d\\w*', word):\n",
    "            x_list[i] = ''\n",
    "    return(' '.join(x_list))"
   ]
  },
  {
   "cell_type": "code",
   "execution_count": 15,
   "metadata": {
    "id": "qm7SjjSkJrFz"
   },
   "outputs": [],
   "source": [
    "# Write your function here to clean the text and remove all the unnecessary elements.\n",
    "def clean_text():\n",
    "    df.complaint_what_happened = df.complaint_what_happened.apply(lambda x: x.lower())\n",
    "    df.complaint_what_happened = df.complaint_what_happened.apply(lambda x: re.sub('/[*/]','',x))\n",
    "    df.complaint_what_happened = df.complaint_what_happened.apply(lambda x: x.replace('!',''))\n",
    "    df.complaint_what_happened = df.complaint_what_happened.apply(clean_word)"
   ]
  },
  {
   "cell_type": "code",
   "execution_count": 16,
   "metadata": {},
   "outputs": [],
   "source": [
    "clean_text()"
   ]
  },
  {
   "cell_type": "code",
   "execution_count": 17,
   "metadata": {},
   "outputs": [
    {
     "data": {
      "text/plain": [
       "1        good morning my name is xxxx xxxx and i apprec...\n",
       "2        i upgraded my xxxx xxxx card in xx/xx/2018 and...\n",
       "10       chase card was reported on xx/xx/2019. however...\n",
       "11       on xx/xx/2018, while trying to book a xxxx  xx...\n",
       "14       my grand son give me check for {$1600.00} i de...\n",
       "                               ...                        \n",
       "78303    after being a chase card customer for well ove...\n",
       "78309    on wednesday, xx/xx/xxxx i called chas, my xxx...\n",
       "78310    i am not familiar with xxxx pay and did not un...\n",
       "78311    i have had flawless credit for  yrs. i've had ...\n",
       "78312    roughly  years ago i closed out my accounts wi...\n",
       "Name: complaint_what_happened, Length: 21072, dtype: object"
      ]
     },
     "execution_count": 17,
     "metadata": {},
     "output_type": "execute_result"
    }
   ],
   "source": [
    "df.complaint_what_happened"
   ]
  },
  {
   "cell_type": "code",
   "execution_count": 18,
   "metadata": {
    "id": "zgOu8t8HJrFz"
   },
   "outputs": [],
   "source": [
    "#Write your function to Lemmatize the texts\n",
    "def lemma_word(x):\n",
    "    sent = []\n",
    "    doc = nlp(x)\n",
    "    for tok in doc:\n",
    "        sent.append(tok.lemma_)\n",
    "    return \" \".join(sent)"
   ]
  },
  {
   "cell_type": "code",
   "execution_count": 19,
   "metadata": {
    "id": "uXnN7aa_JrF0"
   },
   "outputs": [],
   "source": [
    "#Create a dataframe('df_clean') that will have only the complaints and the lemmatized complaints\n",
    "df_clean = pd.DataFrame()\n",
    "df_clean['complaint_what_happened'] = df.complaint_what_happened\n",
    "#df_clean['lemmatized_complaints'] = df.complaint_what_happened.apply(lemma_word)"
   ]
  },
  {
   "cell_type": "code",
   "execution_count": 20,
   "metadata": {},
   "outputs": [
    {
     "name": "stderr",
     "output_type": "stream",
     "text": [
      "100%|█████████████████████████████████████| 21072/21072 [17:30<00:00, 20.06it/s]\n"
     ]
    }
   ],
   "source": [
    "tqdm.pandas()\n",
    "df_clean['lemmatized_complaints'] = df.complaint_what_happened.progress_apply(lemma_word)"
   ]
  },
  {
   "cell_type": "code",
   "execution_count": 21,
   "metadata": {
    "id": "nOiDVvEIJrF0"
   },
   "outputs": [
    {
     "data": {
      "text/html": [
       "<div>\n",
       "<style scoped>\n",
       "    .dataframe tbody tr th:only-of-type {\n",
       "        vertical-align: middle;\n",
       "    }\n",
       "\n",
       "    .dataframe tbody tr th {\n",
       "        vertical-align: top;\n",
       "    }\n",
       "\n",
       "    .dataframe thead th {\n",
       "        text-align: right;\n",
       "    }\n",
       "</style>\n",
       "<table border=\"1\" class=\"dataframe\">\n",
       "  <thead>\n",
       "    <tr style=\"text-align: right;\">\n",
       "      <th></th>\n",
       "      <th>complaint_what_happened</th>\n",
       "      <th>lemmatized_complaints</th>\n",
       "    </tr>\n",
       "  </thead>\n",
       "  <tbody>\n",
       "    <tr>\n",
       "      <th>1</th>\n",
       "      <td>good morning my name is xxxx xxxx and i apprec...</td>\n",
       "      <td>good morning my name be xxxx xxxx and I apprec...</td>\n",
       "    </tr>\n",
       "    <tr>\n",
       "      <th>2</th>\n",
       "      <td>i upgraded my xxxx xxxx card in xx/xx/2018 and...</td>\n",
       "      <td>I upgrade my xxxx xxxx card in xx / xx/2018 an...</td>\n",
       "    </tr>\n",
       "    <tr>\n",
       "      <th>10</th>\n",
       "      <td>chase card was reported on xx/xx/2019. however...</td>\n",
       "      <td>chase card be report on xx / xx/2019 . however...</td>\n",
       "    </tr>\n",
       "    <tr>\n",
       "      <th>11</th>\n",
       "      <td>on xx/xx/2018, while trying to book a xxxx  xx...</td>\n",
       "      <td>on xx / xx/2018 , while try to book a xxxx   x...</td>\n",
       "    </tr>\n",
       "    <tr>\n",
       "      <th>14</th>\n",
       "      <td>my grand son give me check for {$1600.00} i de...</td>\n",
       "      <td>my grand son give I check for { $ 1600.00 } I ...</td>\n",
       "    </tr>\n",
       "    <tr>\n",
       "      <th>...</th>\n",
       "      <td>...</td>\n",
       "      <td>...</td>\n",
       "    </tr>\n",
       "    <tr>\n",
       "      <th>78303</th>\n",
       "      <td>after being a chase card customer for well ove...</td>\n",
       "      <td>after be a chase card customer for well over a...</td>\n",
       "    </tr>\n",
       "    <tr>\n",
       "      <th>78309</th>\n",
       "      <td>on wednesday, xx/xx/xxxx i called chas, my xxx...</td>\n",
       "      <td>on wednesday , xx / xx / xxxx I call cha , my ...</td>\n",
       "    </tr>\n",
       "    <tr>\n",
       "      <th>78310</th>\n",
       "      <td>i am not familiar with xxxx pay and did not un...</td>\n",
       "      <td>I be not familiar with xxxx pay and do not und...</td>\n",
       "    </tr>\n",
       "    <tr>\n",
       "      <th>78311</th>\n",
       "      <td>i have had flawless credit for  yrs. i've had ...</td>\n",
       "      <td>I have have flawless credit for   yr . I 've h...</td>\n",
       "    </tr>\n",
       "    <tr>\n",
       "      <th>78312</th>\n",
       "      <td>roughly  years ago i closed out my accounts wi...</td>\n",
       "      <td>roughly   year ago I close out my account with...</td>\n",
       "    </tr>\n",
       "  </tbody>\n",
       "</table>\n",
       "<p>21072 rows × 2 columns</p>\n",
       "</div>"
      ],
      "text/plain": [
       "                                 complaint_what_happened  \\\n",
       "1      good morning my name is xxxx xxxx and i apprec...   \n",
       "2      i upgraded my xxxx xxxx card in xx/xx/2018 and...   \n",
       "10     chase card was reported on xx/xx/2019. however...   \n",
       "11     on xx/xx/2018, while trying to book a xxxx  xx...   \n",
       "14     my grand son give me check for {$1600.00} i de...   \n",
       "...                                                  ...   \n",
       "78303  after being a chase card customer for well ove...   \n",
       "78309  on wednesday, xx/xx/xxxx i called chas, my xxx...   \n",
       "78310  i am not familiar with xxxx pay and did not un...   \n",
       "78311  i have had flawless credit for  yrs. i've had ...   \n",
       "78312  roughly  years ago i closed out my accounts wi...   \n",
       "\n",
       "                                   lemmatized_complaints  \n",
       "1      good morning my name be xxxx xxxx and I apprec...  \n",
       "2      I upgrade my xxxx xxxx card in xx / xx/2018 an...  \n",
       "10     chase card be report on xx / xx/2019 . however...  \n",
       "11     on xx / xx/2018 , while try to book a xxxx   x...  \n",
       "14     my grand son give I check for { $ 1600.00 } I ...  \n",
       "...                                                  ...  \n",
       "78303  after be a chase card customer for well over a...  \n",
       "78309  on wednesday , xx / xx / xxxx I call cha , my ...  \n",
       "78310  I be not familiar with xxxx pay and do not und...  \n",
       "78311  I have have flawless credit for   yr . I 've h...  \n",
       "78312  roughly   year ago I close out my account with...  \n",
       "\n",
       "[21072 rows x 2 columns]"
      ]
     },
     "execution_count": 21,
     "metadata": {},
     "output_type": "execute_result"
    }
   ],
   "source": [
    "df_clean"
   ]
  },
  {
   "cell_type": "code",
   "execution_count": 22,
   "metadata": {
    "id": "Kk7fc4DuJrF1"
   },
   "outputs": [
    {
     "name": "stderr",
     "output_type": "stream",
     "text": [
      "100%|█████████████████████████████████████| 21072/21072 [46:20<00:00,  7.58it/s]\n"
     ]
    }
   ],
   "source": [
    "#Write your function to extract the POS tags \n",
    "\n",
    "def pos_tag(x):\n",
    "  # write your code here\n",
    "    sent = []\n",
    "    doc = nlp(x)\n",
    "    for tok in doc:\n",
    "        if tok.tag_ == \"NN\":\n",
    "            sent.append(tok.lemma_)\n",
    "    return \" \".join(sent)\n",
    "\n",
    "\n",
    "\n",
    "df_clean[\"complaint_POS_removed\"] =  df.complaint_what_happened.progress_apply(pos_tag)\n"
   ]
  },
  {
   "cell_type": "code",
   "execution_count": 23,
   "metadata": {
    "id": "AjxfchvFJrF2"
   },
   "outputs": [
    {
     "data": {
      "text/html": [
       "<div>\n",
       "<style scoped>\n",
       "    .dataframe tbody tr th:only-of-type {\n",
       "        vertical-align: middle;\n",
       "    }\n",
       "\n",
       "    .dataframe tbody tr th {\n",
       "        vertical-align: top;\n",
       "    }\n",
       "\n",
       "    .dataframe thead th {\n",
       "        text-align: right;\n",
       "    }\n",
       "</style>\n",
       "<table border=\"1\" class=\"dataframe\">\n",
       "  <thead>\n",
       "    <tr style=\"text-align: right;\">\n",
       "      <th></th>\n",
       "      <th>complaint_what_happened</th>\n",
       "      <th>lemmatized_complaints</th>\n",
       "      <th>complaint_POS_removed</th>\n",
       "    </tr>\n",
       "  </thead>\n",
       "  <tbody>\n",
       "    <tr>\n",
       "      <th>1</th>\n",
       "      <td>good morning my name is xxxx xxxx and i apprec...</td>\n",
       "      <td>good morning my name be xxxx xxxx and I apprec...</td>\n",
       "      <td>morning name stop bank cardmember debt verific...</td>\n",
       "    </tr>\n",
       "    <tr>\n",
       "      <th>2</th>\n",
       "      <td>i upgraded my xxxx xxxx card in xx/xx/2018 and...</td>\n",
       "      <td>I upgrade my xxxx xxxx card in xx / xx/2018 an...</td>\n",
       "      <td>card agent upgrade anniversary date agent info...</td>\n",
       "    </tr>\n",
       "    <tr>\n",
       "      <th>10</th>\n",
       "      <td>chase card was reported on xx/xx/2019. however...</td>\n",
       "      <td>chase card be report on xx / xx/2019 . however...</td>\n",
       "      <td>card application identity consent credit ident...</td>\n",
       "    </tr>\n",
       "    <tr>\n",
       "      <th>11</th>\n",
       "      <td>on xx/xx/2018, while trying to book a xxxx  xx...</td>\n",
       "      <td>on xx / xx/2018 , while try to book a xxxx   x...</td>\n",
       "      <td>ticket offer ticket card information offer min...</td>\n",
       "    </tr>\n",
       "    <tr>\n",
       "      <th>14</th>\n",
       "      <td>my grand son give me check for {$1600.00} i de...</td>\n",
       "      <td>my grand son give I check for { $ 1600.00 } I ...</td>\n",
       "      <td>son check chase account fund bank account mone...</td>\n",
       "    </tr>\n",
       "  </tbody>\n",
       "</table>\n",
       "</div>"
      ],
      "text/plain": [
       "                              complaint_what_happened  \\\n",
       "1   good morning my name is xxxx xxxx and i apprec...   \n",
       "2   i upgraded my xxxx xxxx card in xx/xx/2018 and...   \n",
       "10  chase card was reported on xx/xx/2019. however...   \n",
       "11  on xx/xx/2018, while trying to book a xxxx  xx...   \n",
       "14  my grand son give me check for {$1600.00} i de...   \n",
       "\n",
       "                                lemmatized_complaints  \\\n",
       "1   good morning my name be xxxx xxxx and I apprec...   \n",
       "2   I upgrade my xxxx xxxx card in xx / xx/2018 an...   \n",
       "10  chase card be report on xx / xx/2019 . however...   \n",
       "11  on xx / xx/2018 , while try to book a xxxx   x...   \n",
       "14  my grand son give I check for { $ 1600.00 } I ...   \n",
       "\n",
       "                                complaint_POS_removed  \n",
       "1   morning name stop bank cardmember debt verific...  \n",
       "2   card agent upgrade anniversary date agent info...  \n",
       "10  card application identity consent credit ident...  \n",
       "11  ticket offer ticket card information offer min...  \n",
       "14  son check chase account fund bank account mone...  "
      ]
     },
     "execution_count": 23,
     "metadata": {},
     "output_type": "execute_result"
    }
   ],
   "source": [
    "#The clean dataframe should now contain the raw complaint, lemmatized complaint and the complaint after removing POS tags.\n",
    "df_clean.head()"
   ]
  },
  {
   "cell_type": "markdown",
   "metadata": {
    "id": "_7Un1AElJrF2"
   },
   "source": [
    "## Exploratory data analysis to get familiar with the data.\n"
   ]
  },
  {
   "cell_type": "code",
   "execution_count": 24,
   "metadata": {
    "id": "q-zaqJF6JrF2",
    "scrolled": true
   },
   "outputs": [
    {
     "data": {
      "image/png": "[encoded data removed]",
      "text/plain": [
       "<Figure size 360x360 with 1 Axes>"
      ]
     },
     "metadata": {
      "needs_background": "light"
     },
     "output_type": "display_data"
    }
   ],
   "source": [
    "# Write your code here to visualise the data according to the 'Complaint' character length\n",
    "char_len = [len(char) for char in df_clean['complaint_POS_removed']]\n",
    "\n",
    "sns.displot(char_len, kind='hist', bins=60)\n",
    "plt.xlabel(\"character length\")\n",
    "plt.ylabel(\"Complaints\")\n",
    "plt.title(\"Distribution of Complaint character length\")\n",
    "plt.show()"
   ]
  },
  {
   "cell_type": "code",
   "execution_count": 25,
   "metadata": {},
   "outputs": [],
   "source": [
    "#!pip install wordcloud"
   ]
  },
  {
   "cell_type": "markdown",
   "metadata": {
    "id": "T9jD_6SeJrF3"
   },
   "source": [
    "#### Find the top 40 words by frequency among all the articles after processing the text."
   ]
  },
  {
   "cell_type": "code",
   "execution_count": 26,
   "metadata": {
    "id": "QcfdvtfZJrF3"
   },
   "outputs": [
    {
     "data": {
      "image/png": "[encoded data removed]",
      "text/plain": [
       "<Figure size 1080x1080 with 1 Axes>"
      ]
     },
     "metadata": {
      "needs_background": "light"
     },
     "output_type": "display_data"
    }
   ],
   "source": [
    "#Using a word cloud find the top 40 words by frequency among all the articles after processing the text\n",
    "from wordcloud import STOPWORDS, WordCloud \n",
    "stopwords = set(STOPWORDS)\n",
    "wordcloud = WordCloud(max_words=40, \n",
    "                      background_color=\"gray\", \n",
    "                      random_state=100, \n",
    "                      stopwords=stopwords).generate(str(df_clean['complaint_POS_removed']))\n",
    "plt.figure(figsize=[15,15])\n",
    "plt.imshow(wordcloud, interpolation=\"bilinear\")\n",
    "plt.show()"
   ]
  },
  {
   "cell_type": "code",
   "execution_count": 27,
   "metadata": {
    "id": "OkSmc3UaJrF4"
   },
   "outputs": [],
   "source": [
    "#Removing -PRON- from the text corpus\n",
    "df_clean['Complaint_clean'] = df_clean['complaint_POS_removed'].str.replace('-PRON-', '')"
   ]
  },
  {
   "cell_type": "code",
   "execution_count": 28,
   "metadata": {},
   "outputs": [
    {
     "data": {
      "text/html": [
       "<div>\n",
       "<style scoped>\n",
       "    .dataframe tbody tr th:only-of-type {\n",
       "        vertical-align: middle;\n",
       "    }\n",
       "\n",
       "    .dataframe tbody tr th {\n",
       "        vertical-align: top;\n",
       "    }\n",
       "\n",
       "    .dataframe thead th {\n",
       "        text-align: right;\n",
       "    }\n",
       "</style>\n",
       "<table border=\"1\" class=\"dataframe\">\n",
       "  <thead>\n",
       "    <tr style=\"text-align: right;\">\n",
       "      <th></th>\n",
       "      <th>complaint_what_happened</th>\n",
       "      <th>lemmatized_complaints</th>\n",
       "      <th>complaint_POS_removed</th>\n",
       "      <th>Complaint_clean</th>\n",
       "    </tr>\n",
       "  </thead>\n",
       "  <tbody>\n",
       "    <tr>\n",
       "      <th>1</th>\n",
       "      <td>good morning my name is xxxx xxxx and i apprec...</td>\n",
       "      <td>good morning my name be xxxx xxxx and I apprec...</td>\n",
       "      <td>morning name stop bank cardmember debt verific...</td>\n",
       "      <td>morning name stop bank cardmember debt verific...</td>\n",
       "    </tr>\n",
       "    <tr>\n",
       "      <th>2</th>\n",
       "      <td>i upgraded my xxxx xxxx card in xx/xx/2018 and...</td>\n",
       "      <td>I upgrade my xxxx xxxx card in xx / xx/2018 an...</td>\n",
       "      <td>card agent upgrade anniversary date agent info...</td>\n",
       "      <td>card agent upgrade anniversary date agent info...</td>\n",
       "    </tr>\n",
       "    <tr>\n",
       "      <th>10</th>\n",
       "      <td>chase card was reported on xx/xx/2019. however...</td>\n",
       "      <td>chase card be report on xx / xx/2019 . however...</td>\n",
       "      <td>card application identity consent credit ident...</td>\n",
       "      <td>card application identity consent credit ident...</td>\n",
       "    </tr>\n",
       "    <tr>\n",
       "      <th>11</th>\n",
       "      <td>on xx/xx/2018, while trying to book a xxxx  xx...</td>\n",
       "      <td>on xx / xx/2018 , while try to book a xxxx   x...</td>\n",
       "      <td>ticket offer ticket card information offer min...</td>\n",
       "      <td>ticket offer ticket card information offer min...</td>\n",
       "    </tr>\n",
       "    <tr>\n",
       "      <th>14</th>\n",
       "      <td>my grand son give me check for {$1600.00} i de...</td>\n",
       "      <td>my grand son give I check for { $ 1600.00 } I ...</td>\n",
       "      <td>son check chase account fund bank account mone...</td>\n",
       "      <td>son check chase account fund bank account mone...</td>\n",
       "    </tr>\n",
       "  </tbody>\n",
       "</table>\n",
       "</div>"
      ],
      "text/plain": [
       "                              complaint_what_happened  \\\n",
       "1   good morning my name is xxxx xxxx and i apprec...   \n",
       "2   i upgraded my xxxx xxxx card in xx/xx/2018 and...   \n",
       "10  chase card was reported on xx/xx/2019. however...   \n",
       "11  on xx/xx/2018, while trying to book a xxxx  xx...   \n",
       "14  my grand son give me check for {$1600.00} i de...   \n",
       "\n",
       "                                lemmatized_complaints  \\\n",
       "1   good morning my name be xxxx xxxx and I apprec...   \n",
       "2   I upgrade my xxxx xxxx card in xx / xx/2018 an...   \n",
       "10  chase card be report on xx / xx/2019 . however...   \n",
       "11  on xx / xx/2018 , while try to book a xxxx   x...   \n",
       "14  my grand son give I check for { $ 1600.00 } I ...   \n",
       "\n",
       "                                complaint_POS_removed  \\\n",
       "1   morning name stop bank cardmember debt verific...   \n",
       "2   card agent upgrade anniversary date agent info...   \n",
       "10  card application identity consent credit ident...   \n",
       "11  ticket offer ticket card information offer min...   \n",
       "14  son check chase account fund bank account mone...   \n",
       "\n",
       "                                      Complaint_clean  \n",
       "1   morning name stop bank cardmember debt verific...  \n",
       "2   card agent upgrade anniversary date agent info...  \n",
       "10  card application identity consent credit ident...  \n",
       "11  ticket offer ticket card information offer min...  \n",
       "14  son check chase account fund bank account mone...  "
      ]
     },
     "execution_count": 28,
     "metadata": {},
     "output_type": "execute_result"
    }
   ],
   "source": [
    "df_clean.head()"
   ]
  },
  {
   "cell_type": "markdown",
   "metadata": {
    "id": "5DfCSbbmJrF4"
   },
   "source": [
    "#### Find the top unigrams,bigrams and trigrams by frequency among all the complaints after processing the text."
   ]
  },
  {
   "cell_type": "code",
   "execution_count": 29,
   "metadata": {},
   "outputs": [],
   "source": [
    "def ngrams_freq(df, n=None, ngram=(1,1)):\n",
    "    sent = df.values.astype('U')\n",
    "    vectorizer = CountVectorizer(stop_words='english', ngram_range=ngram).fit(sent)\n",
    "    vector = vectorizer.transform(sent)\n",
    "    sum_vector = vector.sum(axis=0)\n",
    "    #print(vectorizer.get_feature_names_out())\n",
    "    #print(sum_vector.toarray())\n",
    "    words_frequency = [(word, sum_vector[0, index]) for word, index in vectorizer.vocabulary_.items()]\n",
    "    words_frequency = sorted(words_frequency, key = lambda x: x[1], reverse=True)\n",
    "    return words_frequency[:n]"
   ]
  },
  {
   "cell_type": "code",
   "execution_count": 30,
   "metadata": {
    "id": "5mbk5DS5JrF4"
   },
   "outputs": [],
   "source": [
    "#find the top 30 unigram frequency among the complaints in the cleaned datafram(df_clean). \n",
    "top_30_unigram = ngrams_freq(df_clean['Complaint_clean'],30,ngram=(1,1))"
   ]
  },
  {
   "cell_type": "code",
   "execution_count": 31,
   "metadata": {
    "id": "YX7fedm1JrF8"
   },
   "outputs": [
    {
     "name": "stdout",
     "output_type": "stream",
     "text": [
      "[('account', 41348), ('chase', 32916), ('credit', 32013), ('card', 26675), ('bank', 17137), ('payment', 14075), ('time', 12181), ('money', 11969), ('loan', 9910), ('information', 9675)]\n"
     ]
    }
   ],
   "source": [
    "#Print the top 10 words in the unigram frequency\n",
    "print(top_30_unigram[:10])"
   ]
  },
  {
   "cell_type": "code",
   "execution_count": 32,
   "metadata": {
    "id": "aV7kD7w8JrF8"
   },
   "outputs": [],
   "source": [
    "#find the top 30 bigram frequency among the complaints in the cleaned datafram(df_clean). \n",
    "top_30_bigram = ngrams_freq(df_clean['Complaint_clean'],30,ngram=(2,2))"
   ]
  },
  {
   "cell_type": "code",
   "execution_count": 33,
   "metadata": {
    "id": "NPnMNIpyJrF9"
   },
   "outputs": [
    {
     "name": "stdout",
     "output_type": "stream",
     "text": [
      "[('credit card', 11046), ('account account', 3465), ('credit report', 3210), ('customer service', 3014), ('chase account', 2577), ('bank account', 2393), ('chase credit', 2375), ('account chase', 2178), ('debit card', 1882), ('card account', 1737)]\n"
     ]
    }
   ],
   "source": [
    "#Print the top 10 words in the bigram frequency\n",
    "print(top_30_bigram[:10])"
   ]
  },
  {
   "cell_type": "code",
   "execution_count": 34,
   "metadata": {
    "id": "Xkh7vtbtJrF-"
   },
   "outputs": [],
   "source": [
    "#find the top 30 trigram frequency among the complaints in the cleaned datafram(df_clean). \n",
    "top_30_trigram = ngrams_freq(df_clean['Complaint_clean'],30,ngram=(3,3))"
   ]
  },
  {
   "cell_type": "code",
   "execution_count": 35,
   "metadata": {
    "id": "REcVxNfvJrF-"
   },
   "outputs": [
    {
     "name": "stdout",
     "output_type": "stream",
     "text": [
      "[('chase credit card', 1461), ('credit card account', 924), ('credit card company', 826), ('credit card credit', 739), ('credit card chase', 596), ('card credit card', 549), ('credit report credit', 400), ('account credit card', 390), ('account account account', 358), ('account chase account', 337)]\n"
     ]
    }
   ],
   "source": [
    "#Print the top 10 words in the trigram frequency\n",
    "print(top_30_trigram[:10])"
   ]
  },
  {
   "cell_type": "markdown",
   "metadata": {
    "id": "yUXzFji0JrF_"
   },
   "source": [
    "## The personal details of customer has been masked in the dataset with xxxx. Let's remove the masked text as this will be of no use for our analysis"
   ]
  },
  {
   "cell_type": "code",
   "execution_count": 36,
   "metadata": {
    "id": "wKda-a_IJrF_"
   },
   "outputs": [],
   "source": [
    "df_clean['Complaint_clean'] = df_clean['Complaint_clean'].str.replace('xxxx','')"
   ]
  },
  {
   "cell_type": "code",
   "execution_count": 37,
   "metadata": {
    "id": "9UIFk8fQJrF_"
   },
   "outputs": [
    {
     "data": {
      "text/html": [
       "<div>\n",
       "<style scoped>\n",
       "    .dataframe tbody tr th:only-of-type {\n",
       "        vertical-align: middle;\n",
       "    }\n",
       "\n",
       "    .dataframe tbody tr th {\n",
       "        vertical-align: top;\n",
       "    }\n",
       "\n",
       "    .dataframe thead th {\n",
       "        text-align: right;\n",
       "    }\n",
       "</style>\n",
       "<table border=\"1\" class=\"dataframe\">\n",
       "  <thead>\n",
       "    <tr style=\"text-align: right;\">\n",
       "      <th></th>\n",
       "      <th>complaint_what_happened</th>\n",
       "      <th>lemmatized_complaints</th>\n",
       "      <th>complaint_POS_removed</th>\n",
       "      <th>Complaint_clean</th>\n",
       "    </tr>\n",
       "  </thead>\n",
       "  <tbody>\n",
       "    <tr>\n",
       "      <th>1</th>\n",
       "      <td>good morning my name is xxxx xxxx and i apprec...</td>\n",
       "      <td>good morning my name be xxxx xxxx and I apprec...</td>\n",
       "      <td>morning name stop bank cardmember debt verific...</td>\n",
       "      <td>morning name stop bank cardmember debt verific...</td>\n",
       "    </tr>\n",
       "    <tr>\n",
       "      <th>2</th>\n",
       "      <td>i upgraded my xxxx xxxx card in xx/xx/2018 and...</td>\n",
       "      <td>I upgrade my xxxx xxxx card in xx / xx/2018 an...</td>\n",
       "      <td>card agent upgrade anniversary date agent info...</td>\n",
       "      <td>card agent upgrade anniversary date agent info...</td>\n",
       "    </tr>\n",
       "    <tr>\n",
       "      <th>10</th>\n",
       "      <td>chase card was reported on xx/xx/2019. however...</td>\n",
       "      <td>chase card be report on xx / xx/2019 . however...</td>\n",
       "      <td>card application identity consent credit ident...</td>\n",
       "      <td>card application identity consent credit ident...</td>\n",
       "    </tr>\n",
       "    <tr>\n",
       "      <th>11</th>\n",
       "      <td>on xx/xx/2018, while trying to book a xxxx  xx...</td>\n",
       "      <td>on xx / xx/2018 , while try to book a xxxx   x...</td>\n",
       "      <td>ticket offer ticket card information offer min...</td>\n",
       "      <td>ticket offer ticket card information offer min...</td>\n",
       "    </tr>\n",
       "    <tr>\n",
       "      <th>14</th>\n",
       "      <td>my grand son give me check for {$1600.00} i de...</td>\n",
       "      <td>my grand son give I check for { $ 1600.00 } I ...</td>\n",
       "      <td>son check chase account fund bank account mone...</td>\n",
       "      <td>son check chase account fund bank account mone...</td>\n",
       "    </tr>\n",
       "    <tr>\n",
       "      <th>...</th>\n",
       "      <td>...</td>\n",
       "      <td>...</td>\n",
       "      <td>...</td>\n",
       "      <td>...</td>\n",
       "    </tr>\n",
       "    <tr>\n",
       "      <th>78303</th>\n",
       "      <td>after being a chase card customer for well ove...</td>\n",
       "      <td>after be a chase card customer for well over a...</td>\n",
       "      <td>card customer decade credit chase bonus airlin...</td>\n",
       "      <td>card customer decade credit chase bonus airlin...</td>\n",
       "    </tr>\n",
       "    <tr>\n",
       "      <th>78309</th>\n",
       "      <td>on wednesday, xx/xx/xxxx i called chas, my xxx...</td>\n",
       "      <td>on wednesday , xx / xx / xxxx I call cha , my ...</td>\n",
       "      <td>credit card provider claim purchase protection...</td>\n",
       "      <td>credit card provider claim purchase protection...</td>\n",
       "    </tr>\n",
       "    <tr>\n",
       "      <th>78310</th>\n",
       "      <td>i am not familiar with xxxx pay and did not un...</td>\n",
       "      <td>I be not familiar with xxxx pay and do not und...</td>\n",
       "      <td>risk chase bank chase banking merchant merchan...</td>\n",
       "      <td>risk chase bank chase banking merchant merchan...</td>\n",
       "    </tr>\n",
       "    <tr>\n",
       "      <th>78311</th>\n",
       "      <td>i have had flawless credit for  yrs. i've had ...</td>\n",
       "      <td>I have have flawless credit for   yr . I 've h...</td>\n",
       "      <td>credit credit chase freedom balance life plent...</td>\n",
       "      <td>credit credit chase freedom balance life plent...</td>\n",
       "    </tr>\n",
       "    <tr>\n",
       "      <th>78312</th>\n",
       "      <td>roughly  years ago i closed out my accounts wi...</td>\n",
       "      <td>roughly   year ago I close out my account with...</td>\n",
       "      <td>order line credit account payment payment cred...</td>\n",
       "      <td>order line credit account payment payment cred...</td>\n",
       "    </tr>\n",
       "  </tbody>\n",
       "</table>\n",
       "<p>21072 rows × 4 columns</p>\n",
       "</div>"
      ],
      "text/plain": [
       "                                 complaint_what_happened  \\\n",
       "1      good morning my name is xxxx xxxx and i apprec...   \n",
       "2      i upgraded my xxxx xxxx card in xx/xx/2018 and...   \n",
       "10     chase card was reported on xx/xx/2019. however...   \n",
       "11     on xx/xx/2018, while trying to book a xxxx  xx...   \n",
       "14     my grand son give me check for {$1600.00} i de...   \n",
       "...                                                  ...   \n",
       "78303  after being a chase card customer for well ove...   \n",
       "78309  on wednesday, xx/xx/xxxx i called chas, my xxx...   \n",
       "78310  i am not familiar with xxxx pay and did not un...   \n",
       "78311  i have had flawless credit for  yrs. i've had ...   \n",
       "78312  roughly  years ago i closed out my accounts wi...   \n",
       "\n",
       "                                   lemmatized_complaints  \\\n",
       "1      good morning my name be xxxx xxxx and I apprec...   \n",
       "2      I upgrade my xxxx xxxx card in xx / xx/2018 an...   \n",
       "10     chase card be report on xx / xx/2019 . however...   \n",
       "11     on xx / xx/2018 , while try to book a xxxx   x...   \n",
       "14     my grand son give I check for { $ 1600.00 } I ...   \n",
       "...                                                  ...   \n",
       "78303  after be a chase card customer for well over a...   \n",
       "78309  on wednesday , xx / xx / xxxx I call cha , my ...   \n",
       "78310  I be not familiar with xxxx pay and do not und...   \n",
       "78311  I have have flawless credit for   yr . I 've h...   \n",
       "78312  roughly   year ago I close out my account with...   \n",
       "\n",
       "                                   complaint_POS_removed  \\\n",
       "1      morning name stop bank cardmember debt verific...   \n",
       "2      card agent upgrade anniversary date agent info...   \n",
       "10     card application identity consent credit ident...   \n",
       "11     ticket offer ticket card information offer min...   \n",
       "14     son check chase account fund bank account mone...   \n",
       "...                                                  ...   \n",
       "78303  card customer decade credit chase bonus airlin...   \n",
       "78309  credit card provider claim purchase protection...   \n",
       "78310  risk chase bank chase banking merchant merchan...   \n",
       "78311  credit credit chase freedom balance life plent...   \n",
       "78312  order line credit account payment payment cred...   \n",
       "\n",
       "                                         Complaint_clean  \n",
       "1      morning name stop bank cardmember debt verific...  \n",
       "2      card agent upgrade anniversary date agent info...  \n",
       "10     card application identity consent credit ident...  \n",
       "11     ticket offer ticket card information offer min...  \n",
       "14     son check chase account fund bank account mone...  \n",
       "...                                                  ...  \n",
       "78303  card customer decade credit chase bonus airlin...  \n",
       "78309  credit card provider claim purchase protection...  \n",
       "78310  risk chase bank chase banking merchant merchan...  \n",
       "78311  credit credit chase freedom balance life plent...  \n",
       "78312  order line credit account payment payment cred...  \n",
       "\n",
       "[21072 rows x 4 columns]"
      ]
     },
     "execution_count": 37,
     "metadata": {},
     "output_type": "execute_result"
    }
   ],
   "source": [
    "#All masked texts has been removed\n",
    "df_clean"
   ]
  },
  {
   "cell_type": "markdown",
   "metadata": {
    "id": "k-I0k0QtJrGA"
   },
   "source": [
    "## Feature Extraction\n",
    "Convert the raw texts to a matrix of TF-IDF features\n",
    "\n",
    "**max_df** is used for removing terms that appear too frequently, also known as \"corpus-specific stop words\"\n",
    "max_df = 0.95 means \"ignore terms that appear in more than 95% of the complaints\"\n",
    "\n",
    "**min_df** is used for removing terms that appear too infrequently\n",
    "min_df = 2 means \"ignore terms that appear in less than 2 complaints\""
   ]
  },
  {
   "cell_type": "code",
   "execution_count": 38,
   "metadata": {
    "id": "Y8fGwaCPJrGA"
   },
   "outputs": [],
   "source": [
    "#Write your code here to initialise the TfidfVectorizer \n",
    "Vectorizer = TfidfVectorizer(max_df = 0.95, min_df = 2, stop_words='english')\n"
   ]
  },
  {
   "cell_type": "markdown",
   "metadata": {
    "id": "yYzD85nTJrGA"
   },
   "source": [
    "#### Create a document term matrix using fit_transform\n",
    "\n",
    "The contents of a document term matrix are tuples of (complaint_id,token_id) tf-idf score:\n",
    "The tuples that are not there have a tf-idf score of 0"
   ]
  },
  {
   "cell_type": "code",
   "execution_count": 39,
   "metadata": {
    "id": "ffzdDpp_JrGB"
   },
   "outputs": [],
   "source": [
    "#Write your code here to create the Document Term Matrix by transforming the complaints column present in df_clean.\n",
    "tfid = Vectorizer.fit_transform(df_clean['Complaint_clean'])"
   ]
  },
  {
   "cell_type": "markdown",
   "metadata": {
    "id": "7Q9lwvNEJrGB"
   },
   "source": [
    "## Topic Modelling using NMF\n",
    "\n",
    "Non-Negative Matrix Factorization (NMF) is an unsupervised technique so there are no labeling of topics that the model will be trained on. The way it works is that, NMF decomposes (or factorizes) high-dimensional vectors into a lower-dimensional representation. These lower-dimensional vectors are non-negative which also means their coefficients are non-negative.\n",
    "\n",
    "In this task I have perform the following:\n",
    "\n",
    "* Find the best number of clusters \n",
    "* Apply the best number to create word clusters\n",
    "* Inspect & validate the correction of each cluster wrt the complaints \n",
    "* Correct the labels if needed \n",
    "* Map the clusters to topics/cluster names"
   ]
  },
  {
   "cell_type": "code",
   "execution_count": 40,
   "metadata": {
    "id": "amLT4omWJrGB"
   },
   "outputs": [],
   "source": [
    "from sklearn.decomposition import NMF"
   ]
  },
  {
   "cell_type": "markdown",
   "metadata": {
    "id": "0wYR1xUTJrGD"
   },
   "source": [
    "## Manual Topic Modeling"
   ]
  },
  {
   "cell_type": "code",
   "execution_count": 41,
   "metadata": {
    "id": "sgd2A6bhJrGD"
   },
   "outputs": [],
   "source": [
    "#Load your nmf_model with the n_components i.e 5\n",
    "num_topics = 5\n",
    "\n",
    "#keep the random_state =40\n",
    "nmf_model = NMF(n_components=num_topics, random_state=40)"
   ]
  },
  {
   "cell_type": "code",
   "execution_count": 42,
   "metadata": {
    "id": "VPMDYbt_JrGE"
   },
   "outputs": [
    {
     "name": "stderr",
     "output_type": "stream",
     "text": [
      "/opt/anaconda3/lib/python3.9/site-packages/sklearn/decomposition/_nmf.py:312: FutureWarning:\n",
      "\n",
      "The 'init' value, when 'init=None' and n_components is less than n_samples and n_features, will be changed from 'nndsvd' to 'nndsvda' in 1.1 (renaming of 0.26).\n",
      "\n"
     ]
    },
    {
     "data": {
      "text/plain": [
       "5450"
      ]
     },
     "execution_count": 42,
     "metadata": {},
     "output_type": "execute_result"
    }
   ],
   "source": [
    "nmf_model.fit(tfid)\n",
    "len(Vectorizer.get_feature_names())"
   ]
  },
  {
   "cell_type": "code",
   "execution_count": 43,
   "metadata": {},
   "outputs": [],
   "source": [
    "topic_model_matrix = nmf_model.components_"
   ]
  },
  {
   "cell_type": "code",
   "execution_count": 44,
   "metadata": {},
   "outputs": [],
   "source": [
    "feature_name = Vectorizer.get_feature_names()"
   ]
  },
  {
   "cell_type": "code",
   "execution_count": 45,
   "metadata": {},
   "outputs": [],
   "source": [
    "feature_name = np.array(feature_name)"
   ]
  },
  {
   "cell_type": "code",
   "execution_count": 46,
   "metadata": {},
   "outputs": [
    {
     "data": {
      "text/html": [
       "<div>\n",
       "<style scoped>\n",
       "    .dataframe tbody tr th:only-of-type {\n",
       "        vertical-align: middle;\n",
       "    }\n",
       "\n",
       "    .dataframe tbody tr th {\n",
       "        vertical-align: top;\n",
       "    }\n",
       "\n",
       "    .dataframe thead th {\n",
       "        text-align: right;\n",
       "    }\n",
       "</style>\n",
       "<table border=\"1\" class=\"dataframe\">\n",
       "  <thead>\n",
       "    <tr style=\"text-align: right;\">\n",
       "      <th></th>\n",
       "      <th>Word1</th>\n",
       "      <th>Word2</th>\n",
       "      <th>Word3</th>\n",
       "      <th>Word4</th>\n",
       "      <th>Word5</th>\n",
       "      <th>Word6</th>\n",
       "      <th>Word7</th>\n",
       "      <th>Word8</th>\n",
       "      <th>Word9</th>\n",
       "      <th>Word10</th>\n",
       "      <th>Word11</th>\n",
       "      <th>Word12</th>\n",
       "      <th>Word13</th>\n",
       "      <th>Word14</th>\n",
       "      <th>Word15</th>\n",
       "    </tr>\n",
       "  </thead>\n",
       "  <tbody>\n",
       "    <tr>\n",
       "      <th>Topic1</th>\n",
       "      <td>0.0</td>\n",
       "      <td>0.0</td>\n",
       "      <td>0.0</td>\n",
       "      <td>0.0</td>\n",
       "      <td>0.0</td>\n",
       "      <td>0.0</td>\n",
       "      <td>0.0</td>\n",
       "      <td>0.0</td>\n",
       "      <td>0.0</td>\n",
       "      <td>0.0</td>\n",
       "      <td>0.0</td>\n",
       "      <td>0.0</td>\n",
       "      <td>0.0</td>\n",
       "      <td>0.0</td>\n",
       "      <td>0.0</td>\n",
       "    </tr>\n",
       "    <tr>\n",
       "      <th>Topic2</th>\n",
       "      <td>0.0</td>\n",
       "      <td>0.0</td>\n",
       "      <td>0.0</td>\n",
       "      <td>0.0</td>\n",
       "      <td>0.0</td>\n",
       "      <td>0.0</td>\n",
       "      <td>0.0</td>\n",
       "      <td>0.0</td>\n",
       "      <td>0.0</td>\n",
       "      <td>0.0</td>\n",
       "      <td>0.0</td>\n",
       "      <td>0.0</td>\n",
       "      <td>0.0</td>\n",
       "      <td>0.0</td>\n",
       "      <td>0.0</td>\n",
       "    </tr>\n",
       "    <tr>\n",
       "      <th>Topic3</th>\n",
       "      <td>0.0</td>\n",
       "      <td>0.0</td>\n",
       "      <td>0.0</td>\n",
       "      <td>0.0</td>\n",
       "      <td>0.0</td>\n",
       "      <td>0.0</td>\n",
       "      <td>0.0</td>\n",
       "      <td>0.0</td>\n",
       "      <td>0.0</td>\n",
       "      <td>0.0</td>\n",
       "      <td>0.0</td>\n",
       "      <td>0.0</td>\n",
       "      <td>0.0</td>\n",
       "      <td>0.0</td>\n",
       "      <td>0.0</td>\n",
       "    </tr>\n",
       "    <tr>\n",
       "      <th>Topic4</th>\n",
       "      <td>0.0</td>\n",
       "      <td>0.0</td>\n",
       "      <td>0.0</td>\n",
       "      <td>0.0</td>\n",
       "      <td>0.0</td>\n",
       "      <td>0.0</td>\n",
       "      <td>0.0</td>\n",
       "      <td>0.0</td>\n",
       "      <td>0.0</td>\n",
       "      <td>0.0</td>\n",
       "      <td>0.0</td>\n",
       "      <td>0.0</td>\n",
       "      <td>0.0</td>\n",
       "      <td>0.0</td>\n",
       "      <td>0.0</td>\n",
       "    </tr>\n",
       "    <tr>\n",
       "      <th>Topic5</th>\n",
       "      <td>0.0</td>\n",
       "      <td>0.0</td>\n",
       "      <td>0.0</td>\n",
       "      <td>0.0</td>\n",
       "      <td>0.0</td>\n",
       "      <td>0.0</td>\n",
       "      <td>0.0</td>\n",
       "      <td>0.0</td>\n",
       "      <td>0.0</td>\n",
       "      <td>0.0</td>\n",
       "      <td>0.0</td>\n",
       "      <td>0.0</td>\n",
       "      <td>0.0</td>\n",
       "      <td>0.0</td>\n",
       "      <td>0.0</td>\n",
       "    </tr>\n",
       "  </tbody>\n",
       "</table>\n",
       "</div>"
      ],
      "text/plain": [
       "       Word1 Word2 Word3 Word4 Word5 Word6 Word7 Word8 Word9 Word10 Word11  \\\n",
       "Topic1   0.0   0.0   0.0   0.0   0.0   0.0   0.0   0.0   0.0    0.0    0.0   \n",
       "Topic2   0.0   0.0   0.0   0.0   0.0   0.0   0.0   0.0   0.0    0.0    0.0   \n",
       "Topic3   0.0   0.0   0.0   0.0   0.0   0.0   0.0   0.0   0.0    0.0    0.0   \n",
       "Topic4   0.0   0.0   0.0   0.0   0.0   0.0   0.0   0.0   0.0    0.0    0.0   \n",
       "Topic5   0.0   0.0   0.0   0.0   0.0   0.0   0.0   0.0   0.0    0.0    0.0   \n",
       "\n",
       "       Word12 Word13 Word14 Word15  \n",
       "Topic1    0.0    0.0    0.0    0.0  \n",
       "Topic2    0.0    0.0    0.0    0.0  \n",
       "Topic3    0.0    0.0    0.0    0.0  \n",
       "Topic4    0.0    0.0    0.0    0.0  \n",
       "Topic5    0.0    0.0    0.0    0.0  "
      ]
     },
     "execution_count": 46,
     "metadata": {},
     "output_type": "execute_result"
    }
   ],
   "source": [
    "topic_model = pd.DataFrame(np.zeros((num_topics,15)), columns = [f'Word{i}' for i in range(1,16)], index = [f'Topic{i}' for i in range(1,num_topics+1)]).astype(str)\n",
    "topic_model"
   ]
  },
  {
   "cell_type": "code",
   "execution_count": 47,
   "metadata": {
    "id": "16kRfat5JrGE"
   },
   "outputs": [
    {
     "data": {
      "text/html": [
       "<div>\n",
       "<style scoped>\n",
       "    .dataframe tbody tr th:only-of-type {\n",
       "        vertical-align: middle;\n",
       "    }\n",
       "\n",
       "    .dataframe tbody tr th {\n",
       "        vertical-align: top;\n",
       "    }\n",
       "\n",
       "    .dataframe thead th {\n",
       "        text-align: right;\n",
       "    }\n",
       "</style>\n",
       "<table border=\"1\" class=\"dataframe\">\n",
       "  <thead>\n",
       "    <tr style=\"text-align: right;\">\n",
       "      <th></th>\n",
       "      <th>Word1</th>\n",
       "      <th>Word2</th>\n",
       "      <th>Word3</th>\n",
       "      <th>Word4</th>\n",
       "      <th>Word5</th>\n",
       "      <th>Word6</th>\n",
       "      <th>Word7</th>\n",
       "      <th>Word8</th>\n",
       "      <th>Word9</th>\n",
       "      <th>Word10</th>\n",
       "      <th>Word11</th>\n",
       "      <th>Word12</th>\n",
       "      <th>Word13</th>\n",
       "      <th>Word14</th>\n",
       "      <th>Word15</th>\n",
       "    </tr>\n",
       "  </thead>\n",
       "  <tbody>\n",
       "    <tr>\n",
       "      <th>Topic1</th>\n",
       "      <td>account</td>\n",
       "      <td>bank</td>\n",
       "      <td>money</td>\n",
       "      <td>check</td>\n",
       "      <td>chase</td>\n",
       "      <td>branch</td>\n",
       "      <td>deposit</td>\n",
       "      <td>number</td>\n",
       "      <td>business</td>\n",
       "      <td>fraud</td>\n",
       "      <td>checking</td>\n",
       "      <td>transaction</td>\n",
       "      <td>claim</td>\n",
       "      <td>information</td>\n",
       "      <td>customer</td>\n",
       "    </tr>\n",
       "    <tr>\n",
       "      <th>Topic2</th>\n",
       "      <td>card</td>\n",
       "      <td>credit</td>\n",
       "      <td>chase</td>\n",
       "      <td>charge</td>\n",
       "      <td>fraud</td>\n",
       "      <td>dispute</td>\n",
       "      <td>company</td>\n",
       "      <td>fee</td>\n",
       "      <td>merchant</td>\n",
       "      <td>time</td>\n",
       "      <td>purchase</td>\n",
       "      <td>service</td>\n",
       "      <td>debit</td>\n",
       "      <td>number</td>\n",
       "      <td>balance</td>\n",
       "    </tr>\n",
       "    <tr>\n",
       "      <th>Topic3</th>\n",
       "      <td>loan</td>\n",
       "      <td>mortgage</td>\n",
       "      <td>home</td>\n",
       "      <td>modification</td>\n",
       "      <td>chase</td>\n",
       "      <td>property</td>\n",
       "      <td>foreclosure</td>\n",
       "      <td>time</td>\n",
       "      <td>letter</td>\n",
       "      <td>house</td>\n",
       "      <td>rate</td>\n",
       "      <td>sale</td>\n",
       "      <td>information</td>\n",
       "      <td>process</td>\n",
       "      <td>company</td>\n",
       "    </tr>\n",
       "    <tr>\n",
       "      <th>Topic4</th>\n",
       "      <td>credit</td>\n",
       "      <td>report</td>\n",
       "      <td>inquiry</td>\n",
       "      <td>score</td>\n",
       "      <td>debt</td>\n",
       "      <td>reporting</td>\n",
       "      <td>information</td>\n",
       "      <td>account</td>\n",
       "      <td>bureaus</td>\n",
       "      <td>identity</td>\n",
       "      <td>limit</td>\n",
       "      <td>theft</td>\n",
       "      <td>company</td>\n",
       "      <td>history</td>\n",
       "      <td>application</td>\n",
       "    </tr>\n",
       "    <tr>\n",
       "      <th>Topic5</th>\n",
       "      <td>payment</td>\n",
       "      <td>balance</td>\n",
       "      <td>month</td>\n",
       "      <td>fee</td>\n",
       "      <td>statement</td>\n",
       "      <td>auto</td>\n",
       "      <td>date</td>\n",
       "      <td>time</td>\n",
       "      <td>day</td>\n",
       "      <td>error</td>\n",
       "      <td>chase</td>\n",
       "      <td>car</td>\n",
       "      <td>history</td>\n",
       "      <td>account</td>\n",
       "      <td>credit</td>\n",
       "    </tr>\n",
       "  </tbody>\n",
       "</table>\n",
       "</div>"
      ],
      "text/plain": [
       "          Word1     Word2    Word3         Word4      Word5      Word6  \\\n",
       "Topic1  account      bank    money         check      chase     branch   \n",
       "Topic2     card    credit    chase        charge      fraud    dispute   \n",
       "Topic3     loan  mortgage     home  modification      chase   property   \n",
       "Topic4   credit    report  inquiry         score       debt  reporting   \n",
       "Topic5  payment   balance    month           fee  statement       auto   \n",
       "\n",
       "              Word7    Word8     Word9    Word10    Word11       Word12  \\\n",
       "Topic1      deposit   number  business     fraud  checking  transaction   \n",
       "Topic2      company      fee  merchant      time  purchase      service   \n",
       "Topic3  foreclosure     time    letter     house      rate         sale   \n",
       "Topic4  information  account   bureaus  identity     limit        theft   \n",
       "Topic5         date     time       day     error     chase          car   \n",
       "\n",
       "             Word13       Word14       Word15  \n",
       "Topic1        claim  information     customer  \n",
       "Topic2        debit       number      balance  \n",
       "Topic3  information      process      company  \n",
       "Topic4      company      history  application  \n",
       "Topic5      history      account       credit  "
      ]
     },
     "execution_count": 47,
     "metadata": {},
     "output_type": "execute_result"
    }
   ],
   "source": [
    "#Print the Top15 words for each of the topics\n",
    "for i,topic_words in enumerate(topic_model_matrix):\n",
    "    ind = topic_words.argsort()[::-1]\n",
    "    for j in range(15):\n",
    "        topic_model.iloc[i][j] = feature_name[ind[j]]\n",
    "topic_model"
   ]
  },
  {
   "cell_type": "markdown",
   "metadata": {},
   "source": [
    "Topics from observation:\n",
    "- Topic 1 = Bank account services\n",
    "- Topic 2 = Credit card / Prepaid card\n",
    "- Topic 3 = Others\n",
    "- Topic 4 = Theft/Dispute reporting\n",
    "- Topic 5 = Mortgages/loans"
   ]
  },
  {
   "cell_type": "code",
   "execution_count": 48,
   "metadata": {
    "id": "0OIT7LmFJrGF"
   },
   "outputs": [],
   "source": [
    "#Create the best topic for each complaint in terms of integer value 0,1,2,3 & 4\n",
    "topic = nmf_model.transform(tfid)"
   ]
  },
  {
   "cell_type": "code",
   "execution_count": 49,
   "metadata": {
    "id": "peyYv-ORJrGF"
   },
   "outputs": [],
   "source": [
    "#Assign the best topic to each of the cmplaints in Topic Column\n",
    "\n",
    "df_clean['Topic'] = topic.argmax(axis=1)"
   ]
  },
  {
   "cell_type": "code",
   "execution_count": 50,
   "metadata": {
    "id": "fLh_Gf3nJrGF"
   },
   "outputs": [
    {
     "data": {
      "text/html": [
       "<div>\n",
       "<style scoped>\n",
       "    .dataframe tbody tr th:only-of-type {\n",
       "        vertical-align: middle;\n",
       "    }\n",
       "\n",
       "    .dataframe tbody tr th {\n",
       "        vertical-align: top;\n",
       "    }\n",
       "\n",
       "    .dataframe thead th {\n",
       "        text-align: right;\n",
       "    }\n",
       "</style>\n",
       "<table border=\"1\" class=\"dataframe\">\n",
       "  <thead>\n",
       "    <tr style=\"text-align: right;\">\n",
       "      <th></th>\n",
       "      <th>complaint_what_happened</th>\n",
       "      <th>lemmatized_complaints</th>\n",
       "      <th>complaint_POS_removed</th>\n",
       "      <th>Complaint_clean</th>\n",
       "      <th>Topic</th>\n",
       "    </tr>\n",
       "  </thead>\n",
       "  <tbody>\n",
       "    <tr>\n",
       "      <th>1</th>\n",
       "      <td>good morning my name is xxxx xxxx and i apprec...</td>\n",
       "      <td>good morning my name be xxxx xxxx and I apprec...</td>\n",
       "      <td>morning name stop bank cardmember debt verific...</td>\n",
       "      <td>morning name stop bank cardmember debt verific...</td>\n",
       "      <td>0</td>\n",
       "    </tr>\n",
       "    <tr>\n",
       "      <th>2</th>\n",
       "      <td>i upgraded my xxxx xxxx card in xx/xx/2018 and...</td>\n",
       "      <td>I upgrade my xxxx xxxx card in xx / xx/2018 an...</td>\n",
       "      <td>card agent upgrade anniversary date agent info...</td>\n",
       "      <td>card agent upgrade anniversary date agent info...</td>\n",
       "      <td>1</td>\n",
       "    </tr>\n",
       "    <tr>\n",
       "      <th>10</th>\n",
       "      <td>chase card was reported on xx/xx/2019. however...</td>\n",
       "      <td>chase card be report on xx / xx/2019 . however...</td>\n",
       "      <td>card application identity consent credit ident...</td>\n",
       "      <td>card application identity consent credit ident...</td>\n",
       "      <td>3</td>\n",
       "    </tr>\n",
       "    <tr>\n",
       "      <th>11</th>\n",
       "      <td>on xx/xx/2018, while trying to book a xxxx  xx...</td>\n",
       "      <td>on xx / xx/2018 , while try to book a xxxx   x...</td>\n",
       "      <td>ticket offer ticket card information offer min...</td>\n",
       "      <td>ticket offer ticket card information offer min...</td>\n",
       "      <td>3</td>\n",
       "    </tr>\n",
       "    <tr>\n",
       "      <th>14</th>\n",
       "      <td>my grand son give me check for {$1600.00} i de...</td>\n",
       "      <td>my grand son give I check for { $ 1600.00 } I ...</td>\n",
       "      <td>son check chase account fund bank account mone...</td>\n",
       "      <td>son check chase account fund bank account mone...</td>\n",
       "      <td>0</td>\n",
       "    </tr>\n",
       "  </tbody>\n",
       "</table>\n",
       "</div>"
      ],
      "text/plain": [
       "                              complaint_what_happened  \\\n",
       "1   good morning my name is xxxx xxxx and i apprec...   \n",
       "2   i upgraded my xxxx xxxx card in xx/xx/2018 and...   \n",
       "10  chase card was reported on xx/xx/2019. however...   \n",
       "11  on xx/xx/2018, while trying to book a xxxx  xx...   \n",
       "14  my grand son give me check for {$1600.00} i de...   \n",
       "\n",
       "                                lemmatized_complaints  \\\n",
       "1   good morning my name be xxxx xxxx and I apprec...   \n",
       "2   I upgrade my xxxx xxxx card in xx / xx/2018 an...   \n",
       "10  chase card be report on xx / xx/2019 . however...   \n",
       "11  on xx / xx/2018 , while try to book a xxxx   x...   \n",
       "14  my grand son give I check for { $ 1600.00 } I ...   \n",
       "\n",
       "                                complaint_POS_removed  \\\n",
       "1   morning name stop bank cardmember debt verific...   \n",
       "2   card agent upgrade anniversary date agent info...   \n",
       "10  card application identity consent credit ident...   \n",
       "11  ticket offer ticket card information offer min...   \n",
       "14  son check chase account fund bank account mone...   \n",
       "\n",
       "                                      Complaint_clean  Topic  \n",
       "1   morning name stop bank cardmember debt verific...      0  \n",
       "2   card agent upgrade anniversary date agent info...      1  \n",
       "10  card application identity consent credit ident...      3  \n",
       "11  ticket offer ticket card information offer min...      3  \n",
       "14  son check chase account fund bank account mone...      0  "
      ]
     },
     "execution_count": 50,
     "metadata": {},
     "output_type": "execute_result"
    }
   ],
   "source": [
    "df_clean.head()"
   ]
  },
  {
   "cell_type": "code",
   "execution_count": 51,
   "metadata": {
    "id": "aQKpufSPJrGG"
   },
   "outputs": [
    {
     "data": {
      "text/html": [
       "<div>\n",
       "<style scoped>\n",
       "    .dataframe tbody tr th:only-of-type {\n",
       "        vertical-align: middle;\n",
       "    }\n",
       "\n",
       "    .dataframe tbody tr th {\n",
       "        vertical-align: top;\n",
       "    }\n",
       "\n",
       "    .dataframe thead th {\n",
       "        text-align: right;\n",
       "    }\n",
       "</style>\n",
       "<table border=\"1\" class=\"dataframe\">\n",
       "  <thead>\n",
       "    <tr style=\"text-align: right;\">\n",
       "      <th></th>\n",
       "      <th>complaint_what_happened</th>\n",
       "      <th>lemmatized_complaints</th>\n",
       "      <th>complaint_POS_removed</th>\n",
       "      <th>Complaint_clean</th>\n",
       "      <th>Topic</th>\n",
       "    </tr>\n",
       "  </thead>\n",
       "  <tbody>\n",
       "    <tr>\n",
       "      <th>1</th>\n",
       "      <td>good morning my name is xxxx xxxx and i apprec...</td>\n",
       "      <td>good morning my name be xxxx xxxx and I apprec...</td>\n",
       "      <td>morning name stop bank cardmember debt verific...</td>\n",
       "      <td>morning name stop bank cardmember debt verific...</td>\n",
       "      <td>0</td>\n",
       "    </tr>\n",
       "    <tr>\n",
       "      <th>24</th>\n",
       "      <td>mishandling of this account by chase auto and ...</td>\n",
       "      <td>mishandle of this account by chase auto and xx...</td>\n",
       "      <td>account auto</td>\n",
       "      <td>account auto</td>\n",
       "      <td>0</td>\n",
       "    </tr>\n",
       "    <tr>\n",
       "      <th>17</th>\n",
       "      <td>with out notice j.p. morgan chase restricted m...</td>\n",
       "      <td>with out notice j.p . morgan chase restrict my...</td>\n",
       "      <td>account debit card branch customer service rep...</td>\n",
       "      <td>account debit card branch customer service rep...</td>\n",
       "      <td>0</td>\n",
       "    </tr>\n",
       "    <tr>\n",
       "      <th>14</th>\n",
       "      <td>my grand son give me check for {$1600.00} i de...</td>\n",
       "      <td>my grand son give I check for { $ 1600.00 } I ...</td>\n",
       "      <td>son check chase account fund bank account mone...</td>\n",
       "      <td>son check chase account fund bank account mone...</td>\n",
       "      <td>0</td>\n",
       "    </tr>\n",
       "    <tr>\n",
       "      <th>27</th>\n",
       "      <td>i opened an account with chase bank on xxxx an...</td>\n",
       "      <td>I open an account with chase bank on xxxx and ...</td>\n",
       "      <td>account code everything account deposit bonus ...</td>\n",
       "      <td>account code everything account deposit bonus ...</td>\n",
       "      <td>0</td>\n",
       "    </tr>\n",
       "    <tr>\n",
       "      <th>32</th>\n",
       "      <td>my chase amazon card was declined for a cateri...</td>\n",
       "      <td>my chase amazon card be decline for a catering...</td>\n",
       "      <td>chase amazon card catering order funeral amoun...</td>\n",
       "      <td>chase amazon card catering order funeral amoun...</td>\n",
       "      <td>1</td>\n",
       "    </tr>\n",
       "    <tr>\n",
       "      <th>21</th>\n",
       "      <td>on xxxx xx/xx/2019, i made a {$300.00} payment...</td>\n",
       "      <td>on xxxx xx / xx/2019 , I make a { $ 300.00 } p...</td>\n",
       "      <td>payment retailer chase pay chase website scam ...</td>\n",
       "      <td>payment retailer chase pay chase website scam ...</td>\n",
       "      <td>1</td>\n",
       "    </tr>\n",
       "    <tr>\n",
       "      <th>2</th>\n",
       "      <td>i upgraded my xxxx xxxx card in xx/xx/2018 and...</td>\n",
       "      <td>I upgrade my xxxx xxxx card in xx / xx/2018 an...</td>\n",
       "      <td>card agent upgrade anniversary date agent info...</td>\n",
       "      <td>card agent upgrade anniversary date agent info...</td>\n",
       "      <td>1</td>\n",
       "    </tr>\n",
       "    <tr>\n",
       "      <th>48</th>\n",
       "      <td>jp morgan chase bank, please answer the follow...</td>\n",
       "      <td>jp morgan chase bank , please answer the follo...</td>\n",
       "      <td>chase information reason information chase acc...</td>\n",
       "      <td>chase information reason information chase acc...</td>\n",
       "      <td>1</td>\n",
       "    </tr>\n",
       "    <tr>\n",
       "      <th>40</th>\n",
       "      <td>xxxx xxxx a sofa, love seat, table and chairs ...</td>\n",
       "      <td>xxxx xxxx a sofa , love seat , table and chair...</td>\n",
       "      <td>sofa love seat table debit card visa claim fur...</td>\n",
       "      <td>sofa love seat table debit card visa claim fur...</td>\n",
       "      <td>1</td>\n",
       "    </tr>\n",
       "    <tr>\n",
       "      <th>81</th>\n",
       "      <td>i bought a new xxxx xxxx on xx/xx/xxxx from xx...</td>\n",
       "      <td>I buy a new xxxx xxxx on xx / xx / xxxx from x...</td>\n",
       "      <td>loan title time resolution time nothing state ...</td>\n",
       "      <td>loan title time resolution time nothing state ...</td>\n",
       "      <td>2</td>\n",
       "    </tr>\n",
       "    <tr>\n",
       "      <th>73</th>\n",
       "      <td>i have wired through one of chase branches in ...</td>\n",
       "      <td>I have wire through one of chase branch in xxx...</td>\n",
       "      <td>chase amount order foreclosure property truste...</td>\n",
       "      <td>chase amount order foreclosure property truste...</td>\n",
       "      <td>2</td>\n",
       "    </tr>\n",
       "    <tr>\n",
       "      <th>57</th>\n",
       "      <td>i have been trying to do a loan modification w...</td>\n",
       "      <td>I have be try to do a loan modification with c...</td>\n",
       "      <td>loan modification chase runaround mo</td>\n",
       "      <td>loan modification chase runaround mo</td>\n",
       "      <td>2</td>\n",
       "    </tr>\n",
       "    <tr>\n",
       "      <th>127</th>\n",
       "      <td>i am xxxx military member ( xxxx ) with the xx...</td>\n",
       "      <td>I be xxxx military member ( xxxx ) with the xx...</td>\n",
       "      <td>member auto finance gap insurance waiver cover...</td>\n",
       "      <td>member auto finance gap insurance waiver cover...</td>\n",
       "      <td>2</td>\n",
       "    </tr>\n",
       "    <tr>\n",
       "      <th>99</th>\n",
       "      <td>my name is xxxx xxxx. i have missed a payment ...</td>\n",
       "      <td>my name be xxxx xxxx . I have miss a payment i...</td>\n",
       "      <td>name payment loan modification loss mitigation...</td>\n",
       "      <td>name payment loan modification loss mitigation...</td>\n",
       "      <td>2</td>\n",
       "    </tr>\n",
       "    <tr>\n",
       "      <th>11</th>\n",
       "      <td>on xx/xx/2018, while trying to book a xxxx  xx...</td>\n",
       "      <td>on xx / xx/2018 , while try to book a xxxx   x...</td>\n",
       "      <td>ticket offer ticket card information offer min...</td>\n",
       "      <td>ticket offer ticket card information offer min...</td>\n",
       "      <td>3</td>\n",
       "    </tr>\n",
       "    <tr>\n",
       "      <th>26</th>\n",
       "      <td>i have reached out to xxxx several times in at...</td>\n",
       "      <td>I have reach out to xxxx several time in attem...</td>\n",
       "      <td>attempt inquiry creditor inquiry report bank b...</td>\n",
       "      <td>attempt inquiry creditor inquiry report bank b...</td>\n",
       "      <td>3</td>\n",
       "    </tr>\n",
       "    <tr>\n",
       "      <th>23</th>\n",
       "      <td>i have a chase credit card which is incorrectl...</td>\n",
       "      <td>I have a chase credit card which be incorrectl...</td>\n",
       "      <td>credit card credit report company issue</td>\n",
       "      <td>credit card credit report company issue</td>\n",
       "      <td>3</td>\n",
       "    </tr>\n",
       "    <tr>\n",
       "      <th>10</th>\n",
       "      <td>chase card was reported on xx/xx/2019. however...</td>\n",
       "      <td>chase card be report on xx / xx/2019 . however...</td>\n",
       "      <td>card application identity consent credit ident...</td>\n",
       "      <td>card application identity consent credit ident...</td>\n",
       "      <td>3</td>\n",
       "    </tr>\n",
       "    <tr>\n",
       "      <th>15</th>\n",
       "      <td>can you please remove inquiry</td>\n",
       "      <td>can you please remove inquiry</td>\n",
       "      <td>inquiry</td>\n",
       "      <td>inquiry</td>\n",
       "      <td>3</td>\n",
       "    </tr>\n",
       "    <tr>\n",
       "      <th>58</th>\n",
       "      <td>i made a purchase of {$260.00} on xx/xx/xxxx. ...</td>\n",
       "      <td>I make a purchase of { $ 260.00 } on xx / xx /...</td>\n",
       "      <td>purchase payment closing date statement statem...</td>\n",
       "      <td>purchase payment closing date statement statem...</td>\n",
       "      <td>4</td>\n",
       "    </tr>\n",
       "    <tr>\n",
       "      <th>20</th>\n",
       "      <td>during the summer months, i experience a decli...</td>\n",
       "      <td>during the summer month , I experience a decli...</td>\n",
       "      <td>summer decline income employment month payment...</td>\n",
       "      <td>summer decline income employment month payment...</td>\n",
       "      <td>4</td>\n",
       "    </tr>\n",
       "    <tr>\n",
       "      <th>82</th>\n",
       "      <td>i recently called to ask chase bank why they r...</td>\n",
       "      <td>I recently call to ask chase bank why they rep...</td>\n",
       "      <td>credit bureau payment info bill balance bill a...</td>\n",
       "      <td>credit bureau payment info bill balance bill a...</td>\n",
       "      <td>4</td>\n",
       "    </tr>\n",
       "    <tr>\n",
       "      <th>92</th>\n",
       "      <td>in xx/xx/2019, several transactions on my chas...</td>\n",
       "      <td>in xx / xx/2019 , several transaction on my ch...</td>\n",
       "      <td>chase account report chase banking relationshi...</td>\n",
       "      <td>chase account report chase banking relationshi...</td>\n",
       "      <td>4</td>\n",
       "    </tr>\n",
       "    <tr>\n",
       "      <th>30</th>\n",
       "      <td>to whom it may concern, chase bank charged wro...</td>\n",
       "      <td>to whom it may concern , chase bank charge wro...</td>\n",
       "      <td>overdraft alert balance fee balance order fee ...</td>\n",
       "      <td>overdraft alert balance fee balance order fee ...</td>\n",
       "      <td>4</td>\n",
       "    </tr>\n",
       "  </tbody>\n",
       "</table>\n",
       "</div>"
      ],
      "text/plain": [
       "                               complaint_what_happened  \\\n",
       "1    good morning my name is xxxx xxxx and i apprec...   \n",
       "24   mishandling of this account by chase auto and ...   \n",
       "17   with out notice j.p. morgan chase restricted m...   \n",
       "14   my grand son give me check for {$1600.00} i de...   \n",
       "27   i opened an account with chase bank on xxxx an...   \n",
       "32   my chase amazon card was declined for a cateri...   \n",
       "21   on xxxx xx/xx/2019, i made a {$300.00} payment...   \n",
       "2    i upgraded my xxxx xxxx card in xx/xx/2018 and...   \n",
       "48   jp morgan chase bank, please answer the follow...   \n",
       "40   xxxx xxxx a sofa, love seat, table and chairs ...   \n",
       "81   i bought a new xxxx xxxx on xx/xx/xxxx from xx...   \n",
       "73   i have wired through one of chase branches in ...   \n",
       "57   i have been trying to do a loan modification w...   \n",
       "127  i am xxxx military member ( xxxx ) with the xx...   \n",
       "99   my name is xxxx xxxx. i have missed a payment ...   \n",
       "11   on xx/xx/2018, while trying to book a xxxx  xx...   \n",
       "26   i have reached out to xxxx several times in at...   \n",
       "23   i have a chase credit card which is incorrectl...   \n",
       "10   chase card was reported on xx/xx/2019. however...   \n",
       "15                       can you please remove inquiry   \n",
       "58   i made a purchase of {$260.00} on xx/xx/xxxx. ...   \n",
       "20   during the summer months, i experience a decli...   \n",
       "82   i recently called to ask chase bank why they r...   \n",
       "92   in xx/xx/2019, several transactions on my chas...   \n",
       "30   to whom it may concern, chase bank charged wro...   \n",
       "\n",
       "                                 lemmatized_complaints  \\\n",
       "1    good morning my name be xxxx xxxx and I apprec...   \n",
       "24   mishandle of this account by chase auto and xx...   \n",
       "17   with out notice j.p . morgan chase restrict my...   \n",
       "14   my grand son give I check for { $ 1600.00 } I ...   \n",
       "27   I open an account with chase bank on xxxx and ...   \n",
       "32   my chase amazon card be decline for a catering...   \n",
       "21   on xxxx xx / xx/2019 , I make a { $ 300.00 } p...   \n",
       "2    I upgrade my xxxx xxxx card in xx / xx/2018 an...   \n",
       "48   jp morgan chase bank , please answer the follo...   \n",
       "40   xxxx xxxx a sofa , love seat , table and chair...   \n",
       "81   I buy a new xxxx xxxx on xx / xx / xxxx from x...   \n",
       "73   I have wire through one of chase branch in xxx...   \n",
       "57   I have be try to do a loan modification with c...   \n",
       "127  I be xxxx military member ( xxxx ) with the xx...   \n",
       "99   my name be xxxx xxxx . I have miss a payment i...   \n",
       "11   on xx / xx/2018 , while try to book a xxxx   x...   \n",
       "26   I have reach out to xxxx several time in attem...   \n",
       "23   I have a chase credit card which be incorrectl...   \n",
       "10   chase card be report on xx / xx/2019 . however...   \n",
       "15                       can you please remove inquiry   \n",
       "58   I make a purchase of { $ 260.00 } on xx / xx /...   \n",
       "20   during the summer month , I experience a decli...   \n",
       "82   I recently call to ask chase bank why they rep...   \n",
       "92   in xx / xx/2019 , several transaction on my ch...   \n",
       "30   to whom it may concern , chase bank charge wro...   \n",
       "\n",
       "                                 complaint_POS_removed  \\\n",
       "1    morning name stop bank cardmember debt verific...   \n",
       "24                                        account auto   \n",
       "17   account debit card branch customer service rep...   \n",
       "14   son check chase account fund bank account mone...   \n",
       "27   account code everything account deposit bonus ...   \n",
       "32   chase amazon card catering order funeral amoun...   \n",
       "21   payment retailer chase pay chase website scam ...   \n",
       "2    card agent upgrade anniversary date agent info...   \n",
       "48   chase information reason information chase acc...   \n",
       "40   sofa love seat table debit card visa claim fur...   \n",
       "81   loan title time resolution time nothing state ...   \n",
       "73   chase amount order foreclosure property truste...   \n",
       "57                loan modification chase runaround mo   \n",
       "127  member auto finance gap insurance waiver cover...   \n",
       "99   name payment loan modification loss mitigation...   \n",
       "11   ticket offer ticket card information offer min...   \n",
       "26   attempt inquiry creditor inquiry report bank b...   \n",
       "23             credit card credit report company issue   \n",
       "10   card application identity consent credit ident...   \n",
       "15                                             inquiry   \n",
       "58   purchase payment closing date statement statem...   \n",
       "20   summer decline income employment month payment...   \n",
       "82   credit bureau payment info bill balance bill a...   \n",
       "92   chase account report chase banking relationshi...   \n",
       "30   overdraft alert balance fee balance order fee ...   \n",
       "\n",
       "                                       Complaint_clean  Topic  \n",
       "1    morning name stop bank cardmember debt verific...      0  \n",
       "24                                        account auto      0  \n",
       "17   account debit card branch customer service rep...      0  \n",
       "14   son check chase account fund bank account mone...      0  \n",
       "27   account code everything account deposit bonus ...      0  \n",
       "32   chase amazon card catering order funeral amoun...      1  \n",
       "21   payment retailer chase pay chase website scam ...      1  \n",
       "2    card agent upgrade anniversary date agent info...      1  \n",
       "48   chase information reason information chase acc...      1  \n",
       "40   sofa love seat table debit card visa claim fur...      1  \n",
       "81   loan title time resolution time nothing state ...      2  \n",
       "73   chase amount order foreclosure property truste...      2  \n",
       "57                loan modification chase runaround mo      2  \n",
       "127  member auto finance gap insurance waiver cover...      2  \n",
       "99   name payment loan modification loss mitigation...      2  \n",
       "11   ticket offer ticket card information offer min...      3  \n",
       "26   attempt inquiry creditor inquiry report bank b...      3  \n",
       "23             credit card credit report company issue      3  \n",
       "10   card application identity consent credit ident...      3  \n",
       "15                                             inquiry      3  \n",
       "58   purchase payment closing date statement statem...      4  \n",
       "20   summer decline income employment month payment...      4  \n",
       "82   credit bureau payment info bill balance bill a...      4  \n",
       "92   chase account report chase banking relationshi...      4  \n",
       "30   overdraft alert balance fee balance order fee ...      4  "
      ]
     },
     "execution_count": 51,
     "metadata": {},
     "output_type": "execute_result"
    }
   ],
   "source": [
    "#Print the first 5 Complaint for each of the Topics\n",
    "df_clean_top5=df_clean.groupby('Topic').head(5)\n",
    "df_clean_top5.sort_values('Topic')"
   ]
  },
  {
   "cell_type": "markdown",
   "metadata": {
    "id": "piyLxzj6v07j"
   },
   "source": [
    "#### After evaluating the mapping, if the topics assigned are correct then assign these names to the relevant topic:\n",
    "* Bank Account services\n",
    "* Credit card or prepaid card\n",
    "* Theft/Dispute Reporting\n",
    "* Mortgage/Loan\n",
    "* Others"
   ]
  },
  {
   "cell_type": "code",
   "execution_count": 52,
   "metadata": {
    "id": "TWpwDG4RJrGG"
   },
   "outputs": [],
   "source": [
    "#Create the dictionary of Topic names and Topics\n",
    "\n",
    "Topic_names = {0:\"Bank account services\", 1:\"Credit card or Prepaid card\", 2:\"Others\", 3:\"Theft/Dispute reporting\", 4:\"Mortgage/loan\"}\n",
    "#Replace Topics with Topic Names\n",
    "df_clean['Topic'] = df_clean['Topic'].map(Topic_names)"
   ]
  },
  {
   "cell_type": "code",
   "execution_count": 53,
   "metadata": {
    "id": "-2ULY5K6JrGG"
   },
   "outputs": [
    {
     "data": {
      "text/html": [
       "<div>\n",
       "<style scoped>\n",
       "    .dataframe tbody tr th:only-of-type {\n",
       "        vertical-align: middle;\n",
       "    }\n",
       "\n",
       "    .dataframe tbody tr th {\n",
       "        vertical-align: top;\n",
       "    }\n",
       "\n",
       "    .dataframe thead th {\n",
       "        text-align: right;\n",
       "    }\n",
       "</style>\n",
       "<table border=\"1\" class=\"dataframe\">\n",
       "  <thead>\n",
       "    <tr style=\"text-align: right;\">\n",
       "      <th></th>\n",
       "      <th>complaint_what_happened</th>\n",
       "      <th>lemmatized_complaints</th>\n",
       "      <th>complaint_POS_removed</th>\n",
       "      <th>Complaint_clean</th>\n",
       "      <th>Topic</th>\n",
       "    </tr>\n",
       "  </thead>\n",
       "  <tbody>\n",
       "    <tr>\n",
       "      <th>1</th>\n",
       "      <td>good morning my name is xxxx xxxx and i apprec...</td>\n",
       "      <td>good morning my name be xxxx xxxx and I apprec...</td>\n",
       "      <td>morning name stop bank cardmember debt verific...</td>\n",
       "      <td>morning name stop bank cardmember debt verific...</td>\n",
       "      <td>Bank account services</td>\n",
       "    </tr>\n",
       "    <tr>\n",
       "      <th>2</th>\n",
       "      <td>i upgraded my xxxx xxxx card in xx/xx/2018 and...</td>\n",
       "      <td>I upgrade my xxxx xxxx card in xx / xx/2018 an...</td>\n",
       "      <td>card agent upgrade anniversary date agent info...</td>\n",
       "      <td>card agent upgrade anniversary date agent info...</td>\n",
       "      <td>Credit card or Prepaid card</td>\n",
       "    </tr>\n",
       "    <tr>\n",
       "      <th>10</th>\n",
       "      <td>chase card was reported on xx/xx/2019. however...</td>\n",
       "      <td>chase card be report on xx / xx/2019 . however...</td>\n",
       "      <td>card application identity consent credit ident...</td>\n",
       "      <td>card application identity consent credit ident...</td>\n",
       "      <td>Theft/Dispute reporting</td>\n",
       "    </tr>\n",
       "    <tr>\n",
       "      <th>11</th>\n",
       "      <td>on xx/xx/2018, while trying to book a xxxx  xx...</td>\n",
       "      <td>on xx / xx/2018 , while try to book a xxxx   x...</td>\n",
       "      <td>ticket offer ticket card information offer min...</td>\n",
       "      <td>ticket offer ticket card information offer min...</td>\n",
       "      <td>Theft/Dispute reporting</td>\n",
       "    </tr>\n",
       "    <tr>\n",
       "      <th>14</th>\n",
       "      <td>my grand son give me check for {$1600.00} i de...</td>\n",
       "      <td>my grand son give I check for { $ 1600.00 } I ...</td>\n",
       "      <td>son check chase account fund bank account mone...</td>\n",
       "      <td>son check chase account fund bank account mone...</td>\n",
       "      <td>Bank account services</td>\n",
       "    </tr>\n",
       "    <tr>\n",
       "      <th>...</th>\n",
       "      <td>...</td>\n",
       "      <td>...</td>\n",
       "      <td>...</td>\n",
       "      <td>...</td>\n",
       "      <td>...</td>\n",
       "    </tr>\n",
       "    <tr>\n",
       "      <th>78303</th>\n",
       "      <td>after being a chase card customer for well ove...</td>\n",
       "      <td>after be a chase card customer for well over a...</td>\n",
       "      <td>card customer decade credit chase bonus airlin...</td>\n",
       "      <td>card customer decade credit chase bonus airlin...</td>\n",
       "      <td>Credit card or Prepaid card</td>\n",
       "    </tr>\n",
       "    <tr>\n",
       "      <th>78309</th>\n",
       "      <td>on wednesday, xx/xx/xxxx i called chas, my xxx...</td>\n",
       "      <td>on wednesday , xx / xx / xxxx I call cha , my ...</td>\n",
       "      <td>credit card provider claim purchase protection...</td>\n",
       "      <td>credit card provider claim purchase protection...</td>\n",
       "      <td>Credit card or Prepaid card</td>\n",
       "    </tr>\n",
       "    <tr>\n",
       "      <th>78310</th>\n",
       "      <td>i am not familiar with xxxx pay and did not un...</td>\n",
       "      <td>I be not familiar with xxxx pay and do not und...</td>\n",
       "      <td>risk chase bank chase banking merchant merchan...</td>\n",
       "      <td>risk chase bank chase banking merchant merchan...</td>\n",
       "      <td>Bank account services</td>\n",
       "    </tr>\n",
       "    <tr>\n",
       "      <th>78311</th>\n",
       "      <td>i have had flawless credit for  yrs. i've had ...</td>\n",
       "      <td>I have have flawless credit for   yr . I 've h...</td>\n",
       "      <td>credit credit chase freedom balance life plent...</td>\n",
       "      <td>credit credit chase freedom balance life plent...</td>\n",
       "      <td>Mortgage/loan</td>\n",
       "    </tr>\n",
       "    <tr>\n",
       "      <th>78312</th>\n",
       "      <td>roughly  years ago i closed out my accounts wi...</td>\n",
       "      <td>roughly   year ago I close out my account with...</td>\n",
       "      <td>order line credit account payment payment cred...</td>\n",
       "      <td>order line credit account payment payment cred...</td>\n",
       "      <td>Mortgage/loan</td>\n",
       "    </tr>\n",
       "  </tbody>\n",
       "</table>\n",
       "<p>21072 rows × 5 columns</p>\n",
       "</div>"
      ],
      "text/plain": [
       "                                 complaint_what_happened  \\\n",
       "1      good morning my name is xxxx xxxx and i apprec...   \n",
       "2      i upgraded my xxxx xxxx card in xx/xx/2018 and...   \n",
       "10     chase card was reported on xx/xx/2019. however...   \n",
       "11     on xx/xx/2018, while trying to book a xxxx  xx...   \n",
       "14     my grand son give me check for {$1600.00} i de...   \n",
       "...                                                  ...   \n",
       "78303  after being a chase card customer for well ove...   \n",
       "78309  on wednesday, xx/xx/xxxx i called chas, my xxx...   \n",
       "78310  i am not familiar with xxxx pay and did not un...   \n",
       "78311  i have had flawless credit for  yrs. i've had ...   \n",
       "78312  roughly  years ago i closed out my accounts wi...   \n",
       "\n",
       "                                   lemmatized_complaints  \\\n",
       "1      good morning my name be xxxx xxxx and I apprec...   \n",
       "2      I upgrade my xxxx xxxx card in xx / xx/2018 an...   \n",
       "10     chase card be report on xx / xx/2019 . however...   \n",
       "11     on xx / xx/2018 , while try to book a xxxx   x...   \n",
       "14     my grand son give I check for { $ 1600.00 } I ...   \n",
       "...                                                  ...   \n",
       "78303  after be a chase card customer for well over a...   \n",
       "78309  on wednesday , xx / xx / xxxx I call cha , my ...   \n",
       "78310  I be not familiar with xxxx pay and do not und...   \n",
       "78311  I have have flawless credit for   yr . I 've h...   \n",
       "78312  roughly   year ago I close out my account with...   \n",
       "\n",
       "                                   complaint_POS_removed  \\\n",
       "1      morning name stop bank cardmember debt verific...   \n",
       "2      card agent upgrade anniversary date agent info...   \n",
       "10     card application identity consent credit ident...   \n",
       "11     ticket offer ticket card information offer min...   \n",
       "14     son check chase account fund bank account mone...   \n",
       "...                                                  ...   \n",
       "78303  card customer decade credit chase bonus airlin...   \n",
       "78309  credit card provider claim purchase protection...   \n",
       "78310  risk chase bank chase banking merchant merchan...   \n",
       "78311  credit credit chase freedom balance life plent...   \n",
       "78312  order line credit account payment payment cred...   \n",
       "\n",
       "                                         Complaint_clean  \\\n",
       "1      morning name stop bank cardmember debt verific...   \n",
       "2      card agent upgrade anniversary date agent info...   \n",
       "10     card application identity consent credit ident...   \n",
       "11     ticket offer ticket card information offer min...   \n",
       "14     son check chase account fund bank account mone...   \n",
       "...                                                  ...   \n",
       "78303  card customer decade credit chase bonus airlin...   \n",
       "78309  credit card provider claim purchase protection...   \n",
       "78310  risk chase bank chase banking merchant merchan...   \n",
       "78311  credit credit chase freedom balance life plent...   \n",
       "78312  order line credit account payment payment cred...   \n",
       "\n",
       "                             Topic  \n",
       "1            Bank account services  \n",
       "2      Credit card or Prepaid card  \n",
       "10         Theft/Dispute reporting  \n",
       "11         Theft/Dispute reporting  \n",
       "14           Bank account services  \n",
       "...                            ...  \n",
       "78303  Credit card or Prepaid card  \n",
       "78309  Credit card or Prepaid card  \n",
       "78310        Bank account services  \n",
       "78311                Mortgage/loan  \n",
       "78312                Mortgage/loan  \n",
       "\n",
       "[21072 rows x 5 columns]"
      ]
     },
     "execution_count": 53,
     "metadata": {},
     "output_type": "execute_result"
    }
   ],
   "source": [
    "df_clean"
   ]
  },
  {
   "cell_type": "markdown",
   "metadata": {
    "id": "7Mu0QBOcJrGH"
   },
   "source": [
    "## Supervised model to predict any new complaints to the relevant Topics."
   ]
  },
  {
   "cell_type": "code",
   "execution_count": 54,
   "metadata": {
    "id": "_U8J3J8wJrGH"
   },
   "outputs": [],
   "source": [
    "#Create the dictionary again of Topic names and Topics\n",
    "\n",
    "Topic_names = {\"Bank account services\":0, \"Credit card or Prepaid card\":1, \"Others\":2, \"Theft/Dispute reporting\":3, \"Mortgage/loan\":4}\n",
    "#Replace Topics with Topic Names\n",
    "df_clean['Topic'] = df_clean['Topic'].map(Topic_names)"
   ]
  },
  {
   "cell_type": "code",
   "execution_count": 55,
   "metadata": {
    "id": "BWIgJUkQJrGH"
   },
   "outputs": [
    {
     "data": {
      "text/html": [
       "<div>\n",
       "<style scoped>\n",
       "    .dataframe tbody tr th:only-of-type {\n",
       "        vertical-align: middle;\n",
       "    }\n",
       "\n",
       "    .dataframe tbody tr th {\n",
       "        vertical-align: top;\n",
       "    }\n",
       "\n",
       "    .dataframe thead th {\n",
       "        text-align: right;\n",
       "    }\n",
       "</style>\n",
       "<table border=\"1\" class=\"dataframe\">\n",
       "  <thead>\n",
       "    <tr style=\"text-align: right;\">\n",
       "      <th></th>\n",
       "      <th>complaint_what_happened</th>\n",
       "      <th>lemmatized_complaints</th>\n",
       "      <th>complaint_POS_removed</th>\n",
       "      <th>Complaint_clean</th>\n",
       "      <th>Topic</th>\n",
       "    </tr>\n",
       "  </thead>\n",
       "  <tbody>\n",
       "    <tr>\n",
       "      <th>1</th>\n",
       "      <td>good morning my name is xxxx xxxx and i apprec...</td>\n",
       "      <td>good morning my name be xxxx xxxx and I apprec...</td>\n",
       "      <td>morning name stop bank cardmember debt verific...</td>\n",
       "      <td>morning name stop bank cardmember debt verific...</td>\n",
       "      <td>0</td>\n",
       "    </tr>\n",
       "    <tr>\n",
       "      <th>2</th>\n",
       "      <td>i upgraded my xxxx xxxx card in xx/xx/2018 and...</td>\n",
       "      <td>I upgrade my xxxx xxxx card in xx / xx/2018 an...</td>\n",
       "      <td>card agent upgrade anniversary date agent info...</td>\n",
       "      <td>card agent upgrade anniversary date agent info...</td>\n",
       "      <td>1</td>\n",
       "    </tr>\n",
       "    <tr>\n",
       "      <th>10</th>\n",
       "      <td>chase card was reported on xx/xx/2019. however...</td>\n",
       "      <td>chase card be report on xx / xx/2019 . however...</td>\n",
       "      <td>card application identity consent credit ident...</td>\n",
       "      <td>card application identity consent credit ident...</td>\n",
       "      <td>3</td>\n",
       "    </tr>\n",
       "    <tr>\n",
       "      <th>11</th>\n",
       "      <td>on xx/xx/2018, while trying to book a xxxx  xx...</td>\n",
       "      <td>on xx / xx/2018 , while try to book a xxxx   x...</td>\n",
       "      <td>ticket offer ticket card information offer min...</td>\n",
       "      <td>ticket offer ticket card information offer min...</td>\n",
       "      <td>3</td>\n",
       "    </tr>\n",
       "    <tr>\n",
       "      <th>14</th>\n",
       "      <td>my grand son give me check for {$1600.00} i de...</td>\n",
       "      <td>my grand son give I check for { $ 1600.00 } I ...</td>\n",
       "      <td>son check chase account fund bank account mone...</td>\n",
       "      <td>son check chase account fund bank account mone...</td>\n",
       "      <td>0</td>\n",
       "    </tr>\n",
       "    <tr>\n",
       "      <th>...</th>\n",
       "      <td>...</td>\n",
       "      <td>...</td>\n",
       "      <td>...</td>\n",
       "      <td>...</td>\n",
       "      <td>...</td>\n",
       "    </tr>\n",
       "    <tr>\n",
       "      <th>78303</th>\n",
       "      <td>after being a chase card customer for well ove...</td>\n",
       "      <td>after be a chase card customer for well over a...</td>\n",
       "      <td>card customer decade credit chase bonus airlin...</td>\n",
       "      <td>card customer decade credit chase bonus airlin...</td>\n",
       "      <td>1</td>\n",
       "    </tr>\n",
       "    <tr>\n",
       "      <th>78309</th>\n",
       "      <td>on wednesday, xx/xx/xxxx i called chas, my xxx...</td>\n",
       "      <td>on wednesday , xx / xx / xxxx I call cha , my ...</td>\n",
       "      <td>credit card provider claim purchase protection...</td>\n",
       "      <td>credit card provider claim purchase protection...</td>\n",
       "      <td>1</td>\n",
       "    </tr>\n",
       "    <tr>\n",
       "      <th>78310</th>\n",
       "      <td>i am not familiar with xxxx pay and did not un...</td>\n",
       "      <td>I be not familiar with xxxx pay and do not und...</td>\n",
       "      <td>risk chase bank chase banking merchant merchan...</td>\n",
       "      <td>risk chase bank chase banking merchant merchan...</td>\n",
       "      <td>0</td>\n",
       "    </tr>\n",
       "    <tr>\n",
       "      <th>78311</th>\n",
       "      <td>i have had flawless credit for  yrs. i've had ...</td>\n",
       "      <td>I have have flawless credit for   yr . I 've h...</td>\n",
       "      <td>credit credit chase freedom balance life plent...</td>\n",
       "      <td>credit credit chase freedom balance life plent...</td>\n",
       "      <td>4</td>\n",
       "    </tr>\n",
       "    <tr>\n",
       "      <th>78312</th>\n",
       "      <td>roughly  years ago i closed out my accounts wi...</td>\n",
       "      <td>roughly   year ago I close out my account with...</td>\n",
       "      <td>order line credit account payment payment cred...</td>\n",
       "      <td>order line credit account payment payment cred...</td>\n",
       "      <td>4</td>\n",
       "    </tr>\n",
       "  </tbody>\n",
       "</table>\n",
       "<p>21072 rows × 5 columns</p>\n",
       "</div>"
      ],
      "text/plain": [
       "                                 complaint_what_happened  \\\n",
       "1      good morning my name is xxxx xxxx and i apprec...   \n",
       "2      i upgraded my xxxx xxxx card in xx/xx/2018 and...   \n",
       "10     chase card was reported on xx/xx/2019. however...   \n",
       "11     on xx/xx/2018, while trying to book a xxxx  xx...   \n",
       "14     my grand son give me check for {$1600.00} i de...   \n",
       "...                                                  ...   \n",
       "78303  after being a chase card customer for well ove...   \n",
       "78309  on wednesday, xx/xx/xxxx i called chas, my xxx...   \n",
       "78310  i am not familiar with xxxx pay and did not un...   \n",
       "78311  i have had flawless credit for  yrs. i've had ...   \n",
       "78312  roughly  years ago i closed out my accounts wi...   \n",
       "\n",
       "                                   lemmatized_complaints  \\\n",
       "1      good morning my name be xxxx xxxx and I apprec...   \n",
       "2      I upgrade my xxxx xxxx card in xx / xx/2018 an...   \n",
       "10     chase card be report on xx / xx/2019 . however...   \n",
       "11     on xx / xx/2018 , while try to book a xxxx   x...   \n",
       "14     my grand son give I check for { $ 1600.00 } I ...   \n",
       "...                                                  ...   \n",
       "78303  after be a chase card customer for well over a...   \n",
       "78309  on wednesday , xx / xx / xxxx I call cha , my ...   \n",
       "78310  I be not familiar with xxxx pay and do not und...   \n",
       "78311  I have have flawless credit for   yr . I 've h...   \n",
       "78312  roughly   year ago I close out my account with...   \n",
       "\n",
       "                                   complaint_POS_removed  \\\n",
       "1      morning name stop bank cardmember debt verific...   \n",
       "2      card agent upgrade anniversary date agent info...   \n",
       "10     card application identity consent credit ident...   \n",
       "11     ticket offer ticket card information offer min...   \n",
       "14     son check chase account fund bank account mone...   \n",
       "...                                                  ...   \n",
       "78303  card customer decade credit chase bonus airlin...   \n",
       "78309  credit card provider claim purchase protection...   \n",
       "78310  risk chase bank chase banking merchant merchan...   \n",
       "78311  credit credit chase freedom balance life plent...   \n",
       "78312  order line credit account payment payment cred...   \n",
       "\n",
       "                                         Complaint_clean  Topic  \n",
       "1      morning name stop bank cardmember debt verific...      0  \n",
       "2      card agent upgrade anniversary date agent info...      1  \n",
       "10     card application identity consent credit ident...      3  \n",
       "11     ticket offer ticket card information offer min...      3  \n",
       "14     son check chase account fund bank account mone...      0  \n",
       "...                                                  ...    ...  \n",
       "78303  card customer decade credit chase bonus airlin...      1  \n",
       "78309  credit card provider claim purchase protection...      1  \n",
       "78310  risk chase bank chase banking merchant merchan...      0  \n",
       "78311  credit credit chase freedom balance life plent...      4  \n",
       "78312  order line credit account payment payment cred...      4  \n",
       "\n",
       "[21072 rows x 5 columns]"
      ]
     },
     "execution_count": 55,
     "metadata": {},
     "output_type": "execute_result"
    }
   ],
   "source": [
    "df_clean"
   ]
  },
  {
   "cell_type": "code",
   "execution_count": 56,
   "metadata": {
    "id": "Xx-FrbkWJrGH"
   },
   "outputs": [],
   "source": [
    "#Keep the columns\"complaint_what_happened\" & \"Topic\" only in the new dataframe --> training_data\n",
    "training_data=df_clean[['complaint_what_happened', 'Topic']]"
   ]
  },
  {
   "cell_type": "code",
   "execution_count": 57,
   "metadata": {
    "id": "lVg2pa12JrGI"
   },
   "outputs": [
    {
     "data": {
      "text/html": [
       "<div>\n",
       "<style scoped>\n",
       "    .dataframe tbody tr th:only-of-type {\n",
       "        vertical-align: middle;\n",
       "    }\n",
       "\n",
       "    .dataframe tbody tr th {\n",
       "        vertical-align: top;\n",
       "    }\n",
       "\n",
       "    .dataframe thead th {\n",
       "        text-align: right;\n",
       "    }\n",
       "</style>\n",
       "<table border=\"1\" class=\"dataframe\">\n",
       "  <thead>\n",
       "    <tr style=\"text-align: right;\">\n",
       "      <th></th>\n",
       "      <th>complaint_what_happened</th>\n",
       "      <th>Topic</th>\n",
       "    </tr>\n",
       "  </thead>\n",
       "  <tbody>\n",
       "    <tr>\n",
       "      <th>1</th>\n",
       "      <td>good morning my name is xxxx xxxx and i apprec...</td>\n",
       "      <td>0</td>\n",
       "    </tr>\n",
       "    <tr>\n",
       "      <th>2</th>\n",
       "      <td>i upgraded my xxxx xxxx card in xx/xx/2018 and...</td>\n",
       "      <td>1</td>\n",
       "    </tr>\n",
       "    <tr>\n",
       "      <th>10</th>\n",
       "      <td>chase card was reported on xx/xx/2019. however...</td>\n",
       "      <td>3</td>\n",
       "    </tr>\n",
       "    <tr>\n",
       "      <th>11</th>\n",
       "      <td>on xx/xx/2018, while trying to book a xxxx  xx...</td>\n",
       "      <td>3</td>\n",
       "    </tr>\n",
       "    <tr>\n",
       "      <th>14</th>\n",
       "      <td>my grand son give me check for {$1600.00} i de...</td>\n",
       "      <td>0</td>\n",
       "    </tr>\n",
       "    <tr>\n",
       "      <th>...</th>\n",
       "      <td>...</td>\n",
       "      <td>...</td>\n",
       "    </tr>\n",
       "    <tr>\n",
       "      <th>78303</th>\n",
       "      <td>after being a chase card customer for well ove...</td>\n",
       "      <td>1</td>\n",
       "    </tr>\n",
       "    <tr>\n",
       "      <th>78309</th>\n",
       "      <td>on wednesday, xx/xx/xxxx i called chas, my xxx...</td>\n",
       "      <td>1</td>\n",
       "    </tr>\n",
       "    <tr>\n",
       "      <th>78310</th>\n",
       "      <td>i am not familiar with xxxx pay and did not un...</td>\n",
       "      <td>0</td>\n",
       "    </tr>\n",
       "    <tr>\n",
       "      <th>78311</th>\n",
       "      <td>i have had flawless credit for  yrs. i've had ...</td>\n",
       "      <td>4</td>\n",
       "    </tr>\n",
       "    <tr>\n",
       "      <th>78312</th>\n",
       "      <td>roughly  years ago i closed out my accounts wi...</td>\n",
       "      <td>4</td>\n",
       "    </tr>\n",
       "  </tbody>\n",
       "</table>\n",
       "<p>21072 rows × 2 columns</p>\n",
       "</div>"
      ],
      "text/plain": [
       "                                 complaint_what_happened  Topic\n",
       "1      good morning my name is xxxx xxxx and i apprec...      0\n",
       "2      i upgraded my xxxx xxxx card in xx/xx/2018 and...      1\n",
       "10     chase card was reported on xx/xx/2019. however...      3\n",
       "11     on xx/xx/2018, while trying to book a xxxx  xx...      3\n",
       "14     my grand son give me check for {$1600.00} i de...      0\n",
       "...                                                  ...    ...\n",
       "78303  after being a chase card customer for well ove...      1\n",
       "78309  on wednesday, xx/xx/xxxx i called chas, my xxx...      1\n",
       "78310  i am not familiar with xxxx pay and did not un...      0\n",
       "78311  i have had flawless credit for  yrs. i've had ...      4\n",
       "78312  roughly  years ago i closed out my accounts wi...      4\n",
       "\n",
       "[21072 rows x 2 columns]"
      ]
     },
     "execution_count": 57,
     "metadata": {},
     "output_type": "execute_result"
    }
   ],
   "source": [
    "training_data"
   ]
  },
  {
   "cell_type": "markdown",
   "metadata": {
    "id": "280Vbqk-7a8M"
   },
   "source": [
    "#### Apply the supervised models on the training data created. In this process I have followed the following process:\n",
    "* Create the vector counts using Count Vectoriser\n",
    "* Transform the word vecotr to tf-idf\n",
    "* Create the train & test data using the train_test_split on the tf-idf & topics\n"
   ]
  },
  {
   "cell_type": "code",
   "execution_count": 64,
   "metadata": {
    "id": "oUlQpgkzJrGI"
   },
   "outputs": [],
   "source": [
    "#Write your code to get the Vector count\n",
    "cnt_Vectorizer = CountVectorizer()\n",
    "X_train_cnt = cnt_Vectorizer.fit_transform(training_data['complaint_what_happened'])\n",
    "\n",
    "#Write your code here to transform the word vector to tf-idf\n",
    "tfidf_transformer = TfidfTransformer()\n",
    "X_train_tfidf = tfidf_transformer.fit_transform(X_train_cnt)"
   ]
  },
  {
   "cell_type": "markdown",
   "metadata": {
    "id": "uMU3vj6w-wqL"
   },
   "source": [
    "I have trained on following model:\n",
    "* Logistic regression\n",
    "* Decision Tree\n",
    "* Random Forest\n"
   ]
  },
  {
   "cell_type": "markdown",
   "metadata": {},
   "source": [
    "# Logistic regression"
   ]
  },
  {
   "cell_type": "code",
   "execution_count": 69,
   "metadata": {},
   "outputs": [],
   "source": [
    "# Importing libaries for Logistic Regression.\n",
    "from sklearn.linear_model import LogisticRegression\n",
    "from sklearn.model_selection import train_test_split\n",
    "from sklearn.metrics import confusion_matrix, classification_report\n",
    "#from sklearn.metrics import precision_score, recall_score, f1_score\n",
    "#from sklearn.metrics import plot_roc_curve\n"
   ]
  },
  {
   "cell_type": "code",
   "execution_count": 65,
   "metadata": {},
   "outputs": [],
   "source": [
    "# Train, Test Split\n",
    "X_train, X_test, y_train, y_test = train_test_split(X_train_tfidf, training_data['Topic'], test_size=0.3, random_state=42)"
   ]
  },
  {
   "cell_type": "code",
   "execution_count": 66,
   "metadata": {},
   "outputs": [
    {
     "name": "stderr",
     "output_type": "stream",
     "text": [
      "/opt/anaconda3/lib/python3.9/site-packages/sklearn/linear_model/_logistic.py:763: ConvergenceWarning:\n",
      "\n",
      "lbfgs failed to converge (status=1):\n",
      "STOP: TOTAL NO. of ITERATIONS REACHED LIMIT.\n",
      "\n",
      "Increase the number of iterations (max_iter) or scale the data as shown in:\n",
      "    https://scikit-learn.org/stable/modules/preprocessing.html\n",
      "Please also refer to the documentation for alternative solver options:\n",
      "    https://scikit-learn.org/stable/modules/linear_model.html#logistic-regression\n",
      "\n"
     ]
    }
   ],
   "source": [
    "logreg = LogisticRegression(random_state=40).fit(X_train, y_train)"
   ]
  },
  {
   "cell_type": "markdown",
   "metadata": {},
   "source": [
    "**Model Evaluation**"
   ]
  },
  {
   "cell_type": "code",
   "execution_count": 67,
   "metadata": {},
   "outputs": [
    {
     "data": {
      "text/plain": [
       "0.9186966149952547"
      ]
     },
     "execution_count": 67,
     "metadata": {},
     "output_type": "execute_result"
    }
   ],
   "source": [
    "# Getting the score of the base model\n",
    "logreg.score(X_test, y_test)"
   ]
  },
  {
   "cell_type": "code",
   "execution_count": 68,
   "metadata": {},
   "outputs": [],
   "source": [
    "# Make predictions on test data\n",
    "y_pred = logreg.predict(X_test)"
   ]
  },
  {
   "cell_type": "code",
   "execution_count": 70,
   "metadata": {},
   "outputs": [
    {
     "name": "stdout",
     "output_type": "stream",
     "text": [
      "[[1755   52   13   10    6]\n",
      " [  71 1657    6   19    5]\n",
      " [  35   27 1017   15   11]\n",
      " [  35   53   25  782   14]\n",
      " [  57   30   23    7  597]]\n"
     ]
    }
   ],
   "source": [
    "print(confusion_matrix(y_test, y_pred))"
   ]
  },
  {
   "cell_type": "code",
   "execution_count": 71,
   "metadata": {},
   "outputs": [
    {
     "name": "stdout",
     "output_type": "stream",
     "text": [
      "              precision    recall  f1-score   support\n",
      "\n",
      "           0       0.90      0.96      0.93      1836\n",
      "           1       0.91      0.94      0.93      1758\n",
      "           2       0.94      0.92      0.93      1105\n",
      "           3       0.94      0.86      0.90       909\n",
      "           4       0.94      0.84      0.89       714\n",
      "\n",
      "    accuracy                           0.92      6322\n",
      "   macro avg       0.93      0.90      0.91      6322\n",
      "weighted avg       0.92      0.92      0.92      6322\n",
      "\n"
     ]
    }
   ],
   "source": [
    "# Print Classification Report\n",
    "print(classification_report(y_test, y_pred))"
   ]
  },
  {
   "cell_type": "markdown",
   "metadata": {},
   "source": [
    "**Inference:** Overall accuracy is 92% and precision and recall is 93% and 90% each so it seems to be a good model"
   ]
  },
  {
   "cell_type": "markdown",
   "metadata": {},
   "source": [
    "# Decision Tree"
   ]
  },
  {
   "cell_type": "code",
   "execution_count": 77,
   "metadata": {},
   "outputs": [],
   "source": [
    "# Importing library for DecisionTreeClassifier\n",
    "from sklearn.tree import DecisionTreeClassifier\n",
    "from sklearn.model_selection import RandomizedSearchCV, GridSearchCV"
   ]
  },
  {
   "cell_type": "code",
   "execution_count": 73,
   "metadata": {},
   "outputs": [],
   "source": [
    "# Train, Test Split\n",
    "X_train, X_test, y_train, y_test = train_test_split(X_train_tfidf, training_data['Topic'], test_size=0.3, random_state=42)"
   ]
  },
  {
   "cell_type": "code",
   "execution_count": 74,
   "metadata": {},
   "outputs": [],
   "source": [
    "#Decision tree\n",
    "dt = DecisionTreeClassifier(random_state=42).fit(X_train, y_train)"
   ]
  },
  {
   "cell_type": "code",
   "execution_count": 75,
   "metadata": {},
   "outputs": [
    {
     "data": {
      "text/plain": [
       "0.8275862068965517"
      ]
     },
     "execution_count": 75,
     "metadata": {},
     "output_type": "execute_result"
    }
   ],
   "source": [
    "#Score of the model on test data\n",
    "dt.score(X_test, y_test)"
   ]
  },
  {
   "cell_type": "markdown",
   "metadata": {},
   "source": [
    "The accuracy of the model is 82% which is less then logistic regression but will see the accuricy after appling hyperparameter tuning "
   ]
  },
  {
   "cell_type": "code",
   "execution_count": 78,
   "metadata": {},
   "outputs": [],
   "source": [
    "grid = {\"max_depth\": [5, 10, 15],\n",
    "           \"min_samples_split\": [10, 20, 30],\n",
    "           \"min_samples_leaf\": [10, 20, 30]}"
   ]
  },
  {
   "cell_type": "code",
   "execution_count": 79,
   "metadata": {},
   "outputs": [
    {
     "name": "stdout",
     "output_type": "stream",
     "text": [
      "Fitting 5 folds for each of 27 candidates, totalling 135 fits\n"
     ]
    }
   ],
   "source": [
    "# Setup grid hyperparameter search for LogisticRegression\n",
    "dt_cv = GridSearchCV(DecisionTreeClassifier(random_state=42),\n",
    "                                param_grid=grid,\n",
    "                                cv=5,\n",
    "                                verbose=True,\n",
    "                                n_jobs=-1)\n",
    "\n",
    "# Fit random hyperparameter search model\n",
    "dt_cv.fit(X_train, y_train);"
   ]
  },
  {
   "cell_type": "markdown",
   "metadata": {},
   "source": [
    "**Model Evaluation**"
   ]
  },
  {
   "cell_type": "code",
   "execution_count": 80,
   "metadata": {},
   "outputs": [
    {
     "data": {
      "text/plain": [
       "{'max_depth': 15, 'min_samples_leaf': 10, 'min_samples_split': 10}"
      ]
     },
     "execution_count": 80,
     "metadata": {},
     "output_type": "execute_result"
    }
   ],
   "source": [
    "dt_cv.best_params_"
   ]
  },
  {
   "cell_type": "code",
   "execution_count": 81,
   "metadata": {},
   "outputs": [
    {
     "data": {
      "text/plain": [
       "0.835336918696615"
      ]
     },
     "execution_count": 81,
     "metadata": {},
     "output_type": "execute_result"
    }
   ],
   "source": [
    "dt_cv.score(X_test, y_test)"
   ]
  },
  {
   "cell_type": "code",
   "execution_count": 82,
   "metadata": {},
   "outputs": [],
   "source": [
    "dt_pred = dt_cv.predict(X_test)"
   ]
  },
  {
   "cell_type": "code",
   "execution_count": 84,
   "metadata": {},
   "outputs": [
    {
     "name": "stdout",
     "output_type": "stream",
     "text": [
      "              precision    recall  f1-score   support\n",
      "\n",
      "           0       0.87      0.86      0.86      1836\n",
      "           1       0.86      0.85      0.86      1758\n",
      "           2       0.75      0.87      0.81      1105\n",
      "           3       0.83      0.77      0.80       909\n",
      "           4       0.84      0.77      0.80       714\n",
      "\n",
      "    accuracy                           0.84      6322\n",
      "   macro avg       0.83      0.82      0.83      6322\n",
      "weighted avg       0.84      0.84      0.84      6322\n",
      "\n"
     ]
    }
   ],
   "source": [
    "# Print Classification Report\n",
    "print(classification_report(y_test, dt_pred))"
   ]
  },
  {
   "cell_type": "markdown",
   "metadata": {},
   "source": [
    "**Inferance:** The score doesnot improve much but 83% is good accuracy. Logestic regression has been the best model till now."
   ]
  },
  {
   "cell_type": "markdown",
   "metadata": {},
   "source": [
    "# Random Forest"
   ]
  },
  {
   "cell_type": "code",
   "execution_count": 86,
   "metadata": {},
   "outputs": [],
   "source": [
    "from sklearn.ensemble import RandomForestClassifier"
   ]
  },
  {
   "cell_type": "code",
   "execution_count": 87,
   "metadata": {},
   "outputs": [],
   "source": [
    "rf = RandomForestClassifier(random_state=42).fit(X_train, y_train)"
   ]
  },
  {
   "cell_type": "code",
   "execution_count": 88,
   "metadata": {},
   "outputs": [
    {
     "data": {
      "text/plain": [
       "0.7964251819044607"
      ]
     },
     "execution_count": 88,
     "metadata": {},
     "output_type": "execute_result"
    }
   ],
   "source": [
    "rf.score(X_test, y_test)"
   ]
  },
  {
   "cell_type": "markdown",
   "metadata": {},
   "source": [
    "The accuracy of the model is 79% which is less then logistic regression but will see the accuracy after appling hyperparameter tuning "
   ]
  },
  {
   "cell_type": "code",
   "execution_count": 89,
   "metadata": {},
   "outputs": [],
   "source": [
    "rf_grid = {\"n_estimators\": np.arange(10, 1000, 50),\n",
    "           \"max_depth\": [3, 5, 10],\n",
    "           \"min_samples_split\": [2, 20, 2],\n",
    "           \"min_samples_leaf\": [1, 20, 2]}"
   ]
  },
  {
   "cell_type": "code",
   "execution_count": 92,
   "metadata": {},
   "outputs": [
    {
     "name": "stdout",
     "output_type": "stream",
     "text": [
      "Fitting 5 folds for each of 10 candidates, totalling 50 fits\n"
     ]
    }
   ],
   "source": [
    "# Setup random hyperparameter search for LogisticRegression\n",
    "rf_cv = RandomizedSearchCV(RandomForestClassifier(random_state=42),\n",
    "                                param_distributions=rf_grid,\n",
    "                                cv=5,\n",
    "                                verbose=True,\n",
    "                                n_jobs=-1)\n",
    "\n",
    "# Fit random hyperparameter search model\n",
    "rf_cv.fit(X_train, y_train)"
   ]
  },
  {
   "cell_type": "markdown",
   "metadata": {},
   "source": [
    "**Model Evaluation**"
   ]
  },
  {
   "cell_type": "code",
   "execution_count": 93,
   "metadata": {},
   "outputs": [
    {
     "data": {
      "text/plain": [
       "0.6678266371401456"
      ]
     },
     "execution_count": 93,
     "metadata": {},
     "output_type": "execute_result"
    }
   ],
   "source": [
    "rf_cv.score(X_test, y_test)"
   ]
  },
  {
   "cell_type": "code",
   "execution_count": 94,
   "metadata": {},
   "outputs": [
    {
     "data": {
      "text/plain": [
       "{'n_estimators': 360,\n",
       " 'min_samples_split': 6,\n",
       " 'min_samples_leaf': 3,\n",
       " 'max_depth': 10}"
      ]
     },
     "execution_count": 94,
     "metadata": {},
     "output_type": "execute_result"
    }
   ],
   "source": [
    "rf_cv.best_params_"
   ]
  },
  {
   "cell_type": "code",
   "execution_count": 95,
   "metadata": {},
   "outputs": [],
   "source": [
    "rf_pred = rf.predict(X_test)"
   ]
  },
  {
   "cell_type": "code",
   "execution_count": 96,
   "metadata": {
    "id": "N2OznsObJrGP"
   },
   "outputs": [
    {
     "name": "stdout",
     "output_type": "stream",
     "text": [
      "              precision    recall  f1-score   support\n",
      "\n",
      "           0       0.76      0.93      0.84      1836\n",
      "           1       0.75      0.88      0.81      1758\n",
      "           2       0.87      0.86      0.86      1105\n",
      "           3       0.87      0.65      0.75       909\n",
      "           4       0.93      0.33      0.49       714\n",
      "\n",
      "    accuracy                           0.80      6322\n",
      "   macro avg       0.84      0.73      0.75      6322\n",
      "weighted avg       0.81      0.80      0.78      6322\n",
      "\n"
     ]
    }
   ],
   "source": [
    "# Print Classification Report\n",
    "print(classification_report(y_test, rf_pred))"
   ]
  },
  {
   "cell_type": "markdown",
   "metadata": {},
   "source": [
    "# Overall Result"
   ]
  },
  {
   "cell_type": "markdown",
   "metadata": {},
   "source": [
    "Logistic Regression\n",
    "- The overall accuracy of the Logistic Regression model is 92%.\n",
    "- Precision and Recall are 93% and 90% respectively which makes this is a very good model."
   ]
  },
  {
   "cell_type": "markdown",
   "metadata": {},
   "source": [
    "Decision Tree\n",
    "- The overal accuracy of Decision Tree is 84%\n",
    "- Precision and Recall are 83% and 82% respectively which is good but not better then logistic."
   ]
  },
  {
   "cell_type": "markdown",
   "metadata": {},
   "source": [
    "Random Forest\n",
    "- The overall accuracy of Random Forest is 80%\n",
    "- Precision and Recall are 84% and 73% respectively which is the least of the three model."
   ]
  },
  {
   "cell_type": "markdown",
   "metadata": {},
   "source": [
    "# Conclusion"
   ]
  },
  {
   "cell_type": "markdown",
   "metadata": {},
   "source": [
    "Besed on the above result Logistic Regression has the best result."
   ]
  }
 ],
 "metadata": {
  "colab": {
   "collapsed_sections": [
    "T9jD_6SeJrF3",
    "5DfCSbbmJrF4",
    "yYzD85nTJrGA",
    "piyLxzj6v07j",
    "280Vbqk-7a8M"
   ],
   "name": "Automatic_Ticket_Classification_Assignment.ipynb",
   "provenance": []
  },
  "kernelspec": {
   "display_name": "Python 3 (ipykernel)",
   "language": "python",
   "name": "python3"
  },
  "language_info": {
   "codemirror_mode": {
    "name": "ipython",
    "version": 3
   },
   "file_extension": ".py",
   "mimetype": "text/x-python",
   "name": "python",
   "nbconvert_exporter": "python",
   "pygments_lexer": "ipython3",
   "version": "3.9.7"
  }
 },
 "nbformat": 4,
 "nbformat_minor": 1
}
